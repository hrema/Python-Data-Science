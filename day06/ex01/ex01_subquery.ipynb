{
 "cells": [
  {
   "cell_type": "markdown",
   "metadata": {
    "collapsed": true,
    "pycharm": {
     "name": "#%% md\n"
    }
   },
   "source": [
    "## create a connection to the database using the library sqlite3"
   ]
  },
  {
   "cell_type": "code",
   "execution_count": 1,
   "outputs": [],
   "source": [
    "import sqlite3"
   ],
   "metadata": {
    "collapsed": false,
    "pycharm": {
     "name": "#%%\n"
    }
   }
  },
  {
   "cell_type": "code",
   "execution_count": 2,
   "outputs": [],
   "source": [
    "database_con = sqlite3.connect('../data/checking-logs.sqlite.sqlite copy')"
   ],
   "metadata": {
    "collapsed": false,
    "pycharm": {
     "name": "#%%\n"
    }
   }
  },
  {
   "cell_type": "markdown",
   "source": [
    "## get the schema of the table checker"
   ],
   "metadata": {
    "collapsed": false,
    "pycharm": {
     "name": "#%% md\n"
    }
   }
  },
  {
   "cell_type": "code",
   "execution_count": 3,
   "outputs": [],
   "source": [
    "import pandas as pd"
   ],
   "metadata": {
    "collapsed": false,
    "pycharm": {
     "name": "#%%\n"
    }
   }
  },
  {
   "cell_type": "code",
   "execution_count": 4,
   "outputs": [
    {
     "data": {
      "text/plain": "   cid       name       type  notnull dflt_value  pk\n0    0      index    INTEGER        0       None   0\n1    1     status       TEXT        0       None   0\n2    2    success    INTEGER        0       None   0\n3    3  timestamp  TIMESTAMP        0       None   0\n4    4  numTrials    INTEGER        0       None   0\n5    5    labname       TEXT        0       None   0\n6    6        uid       TEXT        0       None   0",
      "text/html": "<div>\n<style scoped>\n    .dataframe tbody tr th:only-of-type {\n        vertical-align: middle;\n    }\n\n    .dataframe tbody tr th {\n        vertical-align: top;\n    }\n\n    .dataframe thead th {\n        text-align: right;\n    }\n</style>\n<table border=\"1\" class=\"dataframe\">\n  <thead>\n    <tr style=\"text-align: right;\">\n      <th></th>\n      <th>cid</th>\n      <th>name</th>\n      <th>type</th>\n      <th>notnull</th>\n      <th>dflt_value</th>\n      <th>pk</th>\n    </tr>\n  </thead>\n  <tbody>\n    <tr>\n      <th>0</th>\n      <td>0</td>\n      <td>index</td>\n      <td>INTEGER</td>\n      <td>0</td>\n      <td>None</td>\n      <td>0</td>\n    </tr>\n    <tr>\n      <th>1</th>\n      <td>1</td>\n      <td>status</td>\n      <td>TEXT</td>\n      <td>0</td>\n      <td>None</td>\n      <td>0</td>\n    </tr>\n    <tr>\n      <th>2</th>\n      <td>2</td>\n      <td>success</td>\n      <td>INTEGER</td>\n      <td>0</td>\n      <td>None</td>\n      <td>0</td>\n    </tr>\n    <tr>\n      <th>3</th>\n      <td>3</td>\n      <td>timestamp</td>\n      <td>TIMESTAMP</td>\n      <td>0</td>\n      <td>None</td>\n      <td>0</td>\n    </tr>\n    <tr>\n      <th>4</th>\n      <td>4</td>\n      <td>numTrials</td>\n      <td>INTEGER</td>\n      <td>0</td>\n      <td>None</td>\n      <td>0</td>\n    </tr>\n    <tr>\n      <th>5</th>\n      <td>5</td>\n      <td>labname</td>\n      <td>TEXT</td>\n      <td>0</td>\n      <td>None</td>\n      <td>0</td>\n    </tr>\n    <tr>\n      <th>6</th>\n      <td>6</td>\n      <td>uid</td>\n      <td>TEXT</td>\n      <td>0</td>\n      <td>None</td>\n      <td>0</td>\n    </tr>\n  </tbody>\n</table>\n</div>"
     },
     "execution_count": 4,
     "metadata": {},
     "output_type": "execute_result"
    }
   ],
   "source": [
    "pd.io.sql.read_sql(\"PRAGMA table_info(checker)\", database_con)"
   ],
   "metadata": {
    "collapsed": false,
    "pycharm": {
     "name": "#%%\n"
    }
   }
  },
  {
   "cell_type": "markdown",
   "source": [
    "## get only the first 10 rows of the table checker to check what the table looks like"
   ],
   "metadata": {
    "collapsed": false,
    "pycharm": {
     "name": "#%% md\n"
    }
   }
  },
  {
   "cell_type": "code",
   "execution_count": 5,
   "outputs": [
    {
     "data": {
      "text/plain": "   index    status  success                   timestamp  numTrials   labname  \\\n0      0  checking        0  2020-04-16 21:12:50.740474          5      None   \n1      1     ready        0  2020-04-16 21:12:54.708365          5  code_rvw   \n2      2  checking        0  2020-04-16 21:46:47.769088          7      None   \n3      3     ready        0  2020-04-16 21:46:48.121217          7     lab02   \n4      4  checking        0  2020-04-16 21:53:01.862637          6  code_rvw   \n5      5     ready        0  2020-04-16 21:53:05.373389          6  code_rvw   \n6      6  checking        0  2020-04-17 05:18:51.965864          1      None   \n7      7     ready        0  2020-04-17 05:19:02.744528          1  project1   \n8      8  checking        0  2020-04-17 05:22:35.249331          2  project1   \n9      9     ready        1  2020-04-17 05:22:45.549397          2  project1   \n\n       uid  \n0  admin_1  \n1  admin_1  \n2  admin_1  \n3  admin_1  \n4  admin_1  \n5  admin_1  \n6     None  \n7   user_4  \n8   user_4  \n9   user_4  ",
      "text/html": "<div>\n<style scoped>\n    .dataframe tbody tr th:only-of-type {\n        vertical-align: middle;\n    }\n\n    .dataframe tbody tr th {\n        vertical-align: top;\n    }\n\n    .dataframe thead th {\n        text-align: right;\n    }\n</style>\n<table border=\"1\" class=\"dataframe\">\n  <thead>\n    <tr style=\"text-align: right;\">\n      <th></th>\n      <th>index</th>\n      <th>status</th>\n      <th>success</th>\n      <th>timestamp</th>\n      <th>numTrials</th>\n      <th>labname</th>\n      <th>uid</th>\n    </tr>\n  </thead>\n  <tbody>\n    <tr>\n      <th>0</th>\n      <td>0</td>\n      <td>checking</td>\n      <td>0</td>\n      <td>2020-04-16 21:12:50.740474</td>\n      <td>5</td>\n      <td>None</td>\n      <td>admin_1</td>\n    </tr>\n    <tr>\n      <th>1</th>\n      <td>1</td>\n      <td>ready</td>\n      <td>0</td>\n      <td>2020-04-16 21:12:54.708365</td>\n      <td>5</td>\n      <td>code_rvw</td>\n      <td>admin_1</td>\n    </tr>\n    <tr>\n      <th>2</th>\n      <td>2</td>\n      <td>checking</td>\n      <td>0</td>\n      <td>2020-04-16 21:46:47.769088</td>\n      <td>7</td>\n      <td>None</td>\n      <td>admin_1</td>\n    </tr>\n    <tr>\n      <th>3</th>\n      <td>3</td>\n      <td>ready</td>\n      <td>0</td>\n      <td>2020-04-16 21:46:48.121217</td>\n      <td>7</td>\n      <td>lab02</td>\n      <td>admin_1</td>\n    </tr>\n    <tr>\n      <th>4</th>\n      <td>4</td>\n      <td>checking</td>\n      <td>0</td>\n      <td>2020-04-16 21:53:01.862637</td>\n      <td>6</td>\n      <td>code_rvw</td>\n      <td>admin_1</td>\n    </tr>\n    <tr>\n      <th>5</th>\n      <td>5</td>\n      <td>ready</td>\n      <td>0</td>\n      <td>2020-04-16 21:53:05.373389</td>\n      <td>6</td>\n      <td>code_rvw</td>\n      <td>admin_1</td>\n    </tr>\n    <tr>\n      <th>6</th>\n      <td>6</td>\n      <td>checking</td>\n      <td>0</td>\n      <td>2020-04-17 05:18:51.965864</td>\n      <td>1</td>\n      <td>None</td>\n      <td>None</td>\n    </tr>\n    <tr>\n      <th>7</th>\n      <td>7</td>\n      <td>ready</td>\n      <td>0</td>\n      <td>2020-04-17 05:19:02.744528</td>\n      <td>1</td>\n      <td>project1</td>\n      <td>user_4</td>\n    </tr>\n    <tr>\n      <th>8</th>\n      <td>8</td>\n      <td>checking</td>\n      <td>0</td>\n      <td>2020-04-17 05:22:35.249331</td>\n      <td>2</td>\n      <td>project1</td>\n      <td>user_4</td>\n    </tr>\n    <tr>\n      <th>9</th>\n      <td>9</td>\n      <td>ready</td>\n      <td>1</td>\n      <td>2020-04-17 05:22:45.549397</td>\n      <td>2</td>\n      <td>project1</td>\n      <td>user_4</td>\n    </tr>\n  </tbody>\n</table>\n</div>"
     },
     "execution_count": 5,
     "metadata": {},
     "output_type": "execute_result"
    }
   ],
   "source": [
    "pd.io.sql.read_sql(\"SELECT * FROM checker LIMIT 10\", database_con)"
   ],
   "metadata": {
    "collapsed": false,
    "pycharm": {
     "name": "#%%\n"
    }
   }
  },
  {
   "cell_type": "markdown",
   "source": [
    "## count how many rows satisfy the following conditions using only one query with any number of subqueries"
   ],
   "metadata": {
    "collapsed": false,
    "pycharm": {
     "name": "#%% md\n"
    }
   }
  },
  {
   "cell_type": "code",
   "execution_count": 23,
   "outputs": [],
   "source": [
    "uid_pageviews = pd.io.sql.read_sql(\"SELECT uid FROM pageviews\", database_con)"
   ],
   "metadata": {
    "collapsed": false,
    "pycharm": {
     "name": "#%%\n"
    }
   }
  },
  {
   "cell_type": "code",
   "execution_count": 24,
   "outputs": [
    {
     "data": {
      "text/plain": "uid    \nuser_3     317\nuser_25    179\nuser_28    149\nuser_14    143\nuser_10     89\nadmin_1     71\nuser_17     47\nuser_1      28\nadmin_3     18\nuser_19     16\nuser_21     10\nadmin_0      3\nuser_30      3\nuser_18      3\nuser_9       2\nadmin_2      1\nuser_5       1\ndtype: int64"
     },
     "execution_count": 24,
     "metadata": {},
     "output_type": "execute_result"
    }
   ],
   "source": [
    "uid_pageviews.value_counts()"
   ],
   "metadata": {
    "collapsed": false,
    "pycharm": {
     "name": "#%%\n"
    }
   }
  },
  {
   "cell_type": "code",
   "execution_count": 43,
   "outputs": [],
   "source": [
    "uid_checker = pd.io.sql.read_sql(\"SELECT uid FROM checker\", database_con)"
   ],
   "metadata": {
    "collapsed": false,
    "pycharm": {
     "name": "#%%\n"
    }
   }
  },
  {
   "cell_type": "code",
   "execution_count": 44,
   "outputs": [
    {
     "data": {
      "text/plain": "uid    \nuser_4     368\nuser_14    259\nuser_2     235\nuser_25    233\nuser_19    176\nuser_26    173\nuser_20    165\nuser_31    144\nuser_10    137\nuser_3     134\nuser_29    121\nuser_13    115\nuser_28    114\nuser_24    104\nuser_12     93\nuser_8      87\nuser_1      84\nuser_21     83\nuser_30     72\nuser_18     66\nuser_17     62\nuser_16     60\nuser_27     42\nuser_15     29\nuser_6      18\nadmin_1      9\nuser_22      8\nuser_11      8\nuser_7       8\nuser_23      6\nuser_0       3\nadmin_2      1\ndtype: int64"
     },
     "execution_count": 44,
     "metadata": {},
     "output_type": "execute_result"
    }
   ],
   "source": [
    "uid_checker.value_counts()"
   ],
   "metadata": {
    "collapsed": false,
    "pycharm": {
     "name": "#%%\n"
    }
   }
  },
  {
   "cell_type": "code",
   "execution_count": 45,
   "outputs": [],
   "source": [
    "sql_request = \"\"\"\n",
    "SELECT *\n",
    "FROM pageviews, checker\n",
    "WHERE pageviews.uid = checker.uid\n",
    "\"\"\""
   ],
   "metadata": {
    "collapsed": false,
    "pycharm": {
     "name": "#%%\n"
    }
   }
  },
  {
   "cell_type": "code",
   "execution_count": 46,
   "outputs": [],
   "source": [
    "test = pd.io.sql.read_sql(sql_request, database_con)"
   ],
   "metadata": {
    "collapsed": false,
    "pycharm": {
     "name": "#%%\n"
    }
   }
  },
  {
   "cell_type": "code",
   "execution_count": 48,
   "outputs": [
    {
     "data": {
      "text/plain": "        index      uid                    datetime  index    status  success  \\\n0           0  admin_1  2020-04-17 12:01:08.463179      0  checking        0   \n1           0  admin_1  2020-04-17 12:01:08.463179      1     ready        0   \n2           0  admin_1  2020-04-17 12:01:08.463179      2  checking        0   \n3           0  admin_1  2020-04-17 12:01:08.463179      3     ready        0   \n4           0  admin_1  2020-04-17 12:01:08.463179      4  checking        0   \n...       ...      ...                         ...    ...       ...      ...   \n160362   1079  user_17  2020-05-22 18:22:22.847815   3374  checking        0   \n160363   1079  user_17  2020-05-22 18:22:22.847815   3375     ready        1   \n160364   1079  user_17  2020-05-22 18:22:22.847815   3381     ready        0   \n160365   1079  user_17  2020-05-22 18:22:22.847815   3382  checking        0   \n160366   1079  user_17  2020-05-22 18:22:22.847815   3383     ready        1   \n\n                         timestamp  numTrials   labname      uid  \n0       2020-04-16 21:12:50.740474          5      None  admin_1  \n1       2020-04-16 21:12:54.708365          5  code_rvw  admin_1  \n2       2020-04-16 21:46:47.769088          7      None  admin_1  \n3       2020-04-16 21:46:48.121217          7     lab02  admin_1  \n4       2020-04-16 21:53:01.862637          6  code_rvw  admin_1  \n...                            ...        ...       ...      ...  \n160362  2020-05-21 15:31:51.424850          4    laba06  user_17  \n160363  2020-05-21 15:31:51.546593          4    laba06  user_17  \n160364  2020-05-21 17:39:17.783615          1   laba06s  user_17  \n160365  2020-05-21 18:10:40.712975          2   laba06s  user_17  \n160366  2020-05-21 18:10:40.845772          2   laba06s  user_17  \n\n[160367 rows x 10 columns]",
      "text/html": "<div>\n<style scoped>\n    .dataframe tbody tr th:only-of-type {\n        vertical-align: middle;\n    }\n\n    .dataframe tbody tr th {\n        vertical-align: top;\n    }\n\n    .dataframe thead th {\n        text-align: right;\n    }\n</style>\n<table border=\"1\" class=\"dataframe\">\n  <thead>\n    <tr style=\"text-align: right;\">\n      <th></th>\n      <th>index</th>\n      <th>uid</th>\n      <th>datetime</th>\n      <th>index</th>\n      <th>status</th>\n      <th>success</th>\n      <th>timestamp</th>\n      <th>numTrials</th>\n      <th>labname</th>\n      <th>uid</th>\n    </tr>\n  </thead>\n  <tbody>\n    <tr>\n      <th>0</th>\n      <td>0</td>\n      <td>admin_1</td>\n      <td>2020-04-17 12:01:08.463179</td>\n      <td>0</td>\n      <td>checking</td>\n      <td>0</td>\n      <td>2020-04-16 21:12:50.740474</td>\n      <td>5</td>\n      <td>None</td>\n      <td>admin_1</td>\n    </tr>\n    <tr>\n      <th>1</th>\n      <td>0</td>\n      <td>admin_1</td>\n      <td>2020-04-17 12:01:08.463179</td>\n      <td>1</td>\n      <td>ready</td>\n      <td>0</td>\n      <td>2020-04-16 21:12:54.708365</td>\n      <td>5</td>\n      <td>code_rvw</td>\n      <td>admin_1</td>\n    </tr>\n    <tr>\n      <th>2</th>\n      <td>0</td>\n      <td>admin_1</td>\n      <td>2020-04-17 12:01:08.463179</td>\n      <td>2</td>\n      <td>checking</td>\n      <td>0</td>\n      <td>2020-04-16 21:46:47.769088</td>\n      <td>7</td>\n      <td>None</td>\n      <td>admin_1</td>\n    </tr>\n    <tr>\n      <th>3</th>\n      <td>0</td>\n      <td>admin_1</td>\n      <td>2020-04-17 12:01:08.463179</td>\n      <td>3</td>\n      <td>ready</td>\n      <td>0</td>\n      <td>2020-04-16 21:46:48.121217</td>\n      <td>7</td>\n      <td>lab02</td>\n      <td>admin_1</td>\n    </tr>\n    <tr>\n      <th>4</th>\n      <td>0</td>\n      <td>admin_1</td>\n      <td>2020-04-17 12:01:08.463179</td>\n      <td>4</td>\n      <td>checking</td>\n      <td>0</td>\n      <td>2020-04-16 21:53:01.862637</td>\n      <td>6</td>\n      <td>code_rvw</td>\n      <td>admin_1</td>\n    </tr>\n    <tr>\n      <th>...</th>\n      <td>...</td>\n      <td>...</td>\n      <td>...</td>\n      <td>...</td>\n      <td>...</td>\n      <td>...</td>\n      <td>...</td>\n      <td>...</td>\n      <td>...</td>\n      <td>...</td>\n    </tr>\n    <tr>\n      <th>160362</th>\n      <td>1079</td>\n      <td>user_17</td>\n      <td>2020-05-22 18:22:22.847815</td>\n      <td>3374</td>\n      <td>checking</td>\n      <td>0</td>\n      <td>2020-05-21 15:31:51.424850</td>\n      <td>4</td>\n      <td>laba06</td>\n      <td>user_17</td>\n    </tr>\n    <tr>\n      <th>160363</th>\n      <td>1079</td>\n      <td>user_17</td>\n      <td>2020-05-22 18:22:22.847815</td>\n      <td>3375</td>\n      <td>ready</td>\n      <td>1</td>\n      <td>2020-05-21 15:31:51.546593</td>\n      <td>4</td>\n      <td>laba06</td>\n      <td>user_17</td>\n    </tr>\n    <tr>\n      <th>160364</th>\n      <td>1079</td>\n      <td>user_17</td>\n      <td>2020-05-22 18:22:22.847815</td>\n      <td>3381</td>\n      <td>ready</td>\n      <td>0</td>\n      <td>2020-05-21 17:39:17.783615</td>\n      <td>1</td>\n      <td>laba06s</td>\n      <td>user_17</td>\n    </tr>\n    <tr>\n      <th>160365</th>\n      <td>1079</td>\n      <td>user_17</td>\n      <td>2020-05-22 18:22:22.847815</td>\n      <td>3382</td>\n      <td>checking</td>\n      <td>0</td>\n      <td>2020-05-21 18:10:40.712975</td>\n      <td>2</td>\n      <td>laba06s</td>\n      <td>user_17</td>\n    </tr>\n    <tr>\n      <th>160366</th>\n      <td>1079</td>\n      <td>user_17</td>\n      <td>2020-05-22 18:22:22.847815</td>\n      <td>3383</td>\n      <td>ready</td>\n      <td>1</td>\n      <td>2020-05-21 18:10:40.845772</td>\n      <td>2</td>\n      <td>laba06s</td>\n      <td>user_17</td>\n    </tr>\n  </tbody>\n</table>\n<p>160367 rows × 10 columns</p>\n</div>"
     },
     "execution_count": 48,
     "metadata": {},
     "output_type": "execute_result"
    }
   ],
   "source": [
    "test"
   ],
   "metadata": {
    "collapsed": false,
    "pycharm": {
     "name": "#%%\n"
    }
   }
  },
  {
   "cell_type": "code",
   "execution_count": null,
   "outputs": [],
   "source": [],
   "metadata": {
    "collapsed": false,
    "pycharm": {
     "name": "#%%\n"
    }
   }
  }
 ],
 "metadata": {
  "kernelspec": {
   "display_name": "Python 3",
   "language": "python",
   "name": "python3"
  },
  "language_info": {
   "codemirror_mode": {
    "name": "ipython",
    "version": 2
   },
   "file_extension": ".py",
   "mimetype": "text/x-python",
   "name": "python",
   "nbconvert_exporter": "python",
   "pygments_lexer": "ipython2",
   "version": "2.7.6"
  }
 },
 "nbformat": 4,
 "nbformat_minor": 0
}