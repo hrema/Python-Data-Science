{
 "cells": [
  {
   "cell_type": "code",
   "execution_count": 122,
   "source": [
    "import pandas as pd"
   ],
   "outputs": [],
   "metadata": {}
  },
  {
   "cell_type": "markdown",
   "source": [
    "## download and read the CSV file and make ID the index column"
   ],
   "metadata": {}
  },
  {
   "cell_type": "code",
   "execution_count": 123,
   "source": [
    "df = pd.read_csv('../data/auto.csv')"
   ],
   "outputs": [],
   "metadata": {}
  },
  {
   "cell_type": "code",
   "execution_count": 124,
   "source": [
    "df.set_index('ID', inplace=True)"
   ],
   "outputs": [],
   "metadata": {}
  },
  {
   "cell_type": "markdown",
   "source": [
    "## Result"
   ],
   "metadata": {}
  },
  {
   "cell_type": "code",
   "execution_count": 125,
   "source": [
    "# df"
   ],
   "outputs": [],
   "metadata": {}
  },
  {
   "cell_type": "markdown",
   "source": [
    "## count the number of observations using the method count()"
   ],
   "metadata": {}
  },
  {
   "cell_type": "code",
   "execution_count": 126,
   "source": [
    "df.count()"
   ],
   "outputs": [
    {
     "data": {
      "text/plain": "CarNumber       931\nMake_n_model    931\nRefund          914\nFines           869\nHistory          82\ndtype: int64"
     },
     "execution_count": 126,
     "metadata": {},
     "output_type": "execute_result"
    }
   ],
   "metadata": {}
  },
  {
   "cell_type": "markdown",
   "source": [
    "## drop the duplicates, taking into account only the following columns: CarNumber, Make_n_model, Fines"
   ],
   "metadata": {}
  },
  {
   "cell_type": "code",
   "execution_count": 127,
   "source": [
    "df.drop_duplicates(subset=['CarNumber', 'Make_n_model', 'Fines'], keep='last', inplace=True)"
   ],
   "outputs": [],
   "metadata": {}
  },
  {
   "cell_type": "code",
   "execution_count": 128,
   "outputs": [
    {
     "data": {
      "text/plain": "CarNumber       725\nMake_n_model    725\nRefund          713\nFines           665\nHistory          65\ndtype: int64"
     },
     "execution_count": 128,
     "metadata": {},
     "output_type": "execute_result"
    }
   ],
   "source": [
    "df.count()"
   ],
   "metadata": {
    "collapsed": false,
    "pycharm": {
     "name": "#%%\n"
    }
   }
  },
  {
   "cell_type": "markdown",
   "source": [
    "## work with missing values"
   ],
   "metadata": {
    "collapsed": false,
    "pycharm": {
     "name": "#%% md\n"
    }
   }
  },
  {
   "cell_type": "code",
   "execution_count": 129,
   "outputs": [
    {
     "name": "stdout",
     "output_type": "stream",
     "text": [
      "Кол-во пропусков в столбце 'CarName': 0\n",
      "Кол-во пропусков в столбце 'Make_n_model': 0\n",
      "Кол-во пропусков в столбце 'Refund': 12\n",
      "Кол-во пропусков в столбце 'Fines': 60\n",
      "Кол-во пропусков в столбце 'History': 660\n"
     ]
    }
   ],
   "source": [
    "print(f\"Кол-во пропусков в столбце 'CarName': {df['CarNumber'].isna().sum()}\")\n",
    "print(f\"Кол-во пропусков в столбце 'Make_n_model': {df['Make_n_model'].isna().sum()}\")\n",
    "print(f\"Кол-во пропусков в столбце 'Refund': {df['Refund'].isna().sum()}\")\n",
    "print(f\"Кол-во пропусков в столбце 'Fines': {df['Fines'].isna().sum()}\")\n",
    "print(f\"Кол-во пропусков в столбце 'History': {df['History'].isna().sum()}\")"
   ],
   "metadata": {
    "collapsed": false,
    "pycharm": {
     "name": "#%%\n"
    }
   }
  },
  {
   "cell_type": "code",
   "execution_count": 130,
   "outputs": [],
   "source": [
    "df.dropna(axis='columns', thresh=500, inplace=True)"
   ],
   "metadata": {
    "collapsed": false,
    "pycharm": {
     "name": "#%%\n"
    }
   }
  },
  {
   "cell_type": "code",
   "execution_count": 131,
   "outputs": [
    {
     "data": {
      "text/plain": "CarNumber       725\nMake_n_model    725\nRefund          713\nFines           665\ndtype: int64"
     },
     "execution_count": 131,
     "metadata": {},
     "output_type": "execute_result"
    }
   ],
   "source": [
    "df.count()"
   ],
   "metadata": {
    "collapsed": false,
    "pycharm": {
     "name": "#%%\n"
    }
   }
  },
  {
   "cell_type": "code",
   "execution_count": 132,
   "outputs": [
    {
     "name": "stdout",
     "output_type": "stream",
     "text": [
      "Кол-во пропусков в столбце 'CarName': 0\n",
      "Кол-во пропусков в столбце 'Make_n_model': 0\n",
      "Кол-во пропусков в столбце 'Refund': 12\n",
      "Кол-во пропусков в столбце 'Fines': 60\n"
     ]
    }
   ],
   "source": [
    "print(f\"Кол-во пропусков в столбце 'CarName': {df['CarNumber'].isna().sum()}\")\n",
    "print(f\"Кол-во пропусков в столбце 'Make_n_model': {df['Make_n_model'].isna().sum()}\")\n",
    "print(f\"Кол-во пропусков в столбце 'Refund': {df['Refund'].isna().sum()}\")\n",
    "print(f\"Кол-во пропусков в столбце 'Fines': {df['Fines'].isna().sum()}\")"
   ],
   "metadata": {
    "collapsed": false,
    "pycharm": {
     "name": "#%%\n"
    }
   }
  },
  {
   "cell_type": "code",
   "execution_count": 133,
   "outputs": [],
   "source": [
    "df['Refund'].fillna(method='ffill', inplace=True)"
   ],
   "metadata": {
    "collapsed": false,
    "pycharm": {
     "name": "#%%\n"
    }
   }
  },
  {
   "cell_type": "code",
   "execution_count": 134,
   "outputs": [
    {
     "data": {
      "text/plain": "CarNumber       725\nMake_n_model    725\nRefund          725\nFines           665\ndtype: int64"
     },
     "execution_count": 134,
     "metadata": {},
     "output_type": "execute_result"
    }
   ],
   "source": [
    "df.count()"
   ],
   "metadata": {
    "collapsed": false,
    "pycharm": {
     "name": "#%%\n"
    }
   }
  },
  {
   "cell_type": "code",
   "execution_count": 135,
   "outputs": [
    {
     "name": "stdout",
     "output_type": "stream",
     "text": [
      "Кол-во пропусков в столбце 'CarName': 0\n",
      "Кол-во пропусков в столбце 'Make_n_model': 0\n",
      "Кол-во пропусков в столбце 'Refund': 0\n",
      "Кол-во пропусков в столбце 'Fines': 60\n"
     ]
    }
   ],
   "source": [
    "print(f\"Кол-во пропусков в столбце 'CarName': {df['CarNumber'].isna().sum()}\")\n",
    "print(f\"Кол-во пропусков в столбце 'Make_n_model': {df['Make_n_model'].isna().sum()}\")\n",
    "print(f\"Кол-во пропусков в столбце 'Refund': {df['Refund'].isna().sum()}\")\n",
    "print(f\"Кол-во пропусков в столбце 'Fines': {df['Fines'].isna().sum()}\")"
   ],
   "metadata": {
    "collapsed": false,
    "pycharm": {
     "name": "#%%\n"
    }
   }
  },
  {
   "cell_type": "code",
   "execution_count": 136,
   "outputs": [],
   "source": [
    "mean_fines = df['Fines'].mean(skipna=True)\n",
    "df['Fines'].fillna(mean_fines, inplace=True)"
   ],
   "metadata": {
    "collapsed": false,
    "pycharm": {
     "name": "#%%\n"
    }
   }
  },
  {
   "cell_type": "code",
   "execution_count": 137,
   "outputs": [
    {
     "data": {
      "text/plain": "CarNumber       725\nMake_n_model    725\nRefund          725\nFines           725\ndtype: int64"
     },
     "execution_count": 137,
     "metadata": {},
     "output_type": "execute_result"
    }
   ],
   "source": [
    "df.count()"
   ],
   "metadata": {
    "collapsed": false,
    "pycharm": {
     "name": "#%%\n"
    }
   }
  },
  {
   "cell_type": "code",
   "execution_count": 138,
   "outputs": [
    {
     "name": "stdout",
     "output_type": "stream",
     "text": [
      "Кол-во пропусков в столбце 'CarName': 0\n",
      "Кол-во пропусков в столбце 'Make_n_model': 0\n",
      "Кол-во пропусков в столбце 'Refund': 0\n",
      "Кол-во пропусков в столбце 'Fines': 0\n"
     ]
    }
   ],
   "source": [
    "print(f\"Кол-во пропусков в столбце 'CarName': {df['CarNumber'].isna().sum()}\")\n",
    "print(f\"Кол-во пропусков в столбце 'Make_n_model': {df['Make_n_model'].isna().sum()}\")\n",
    "print(f\"Кол-во пропусков в столбце 'Refund': {df['Refund'].isna().sum()}\")\n",
    "print(f\"Кол-во пропусков в столбце 'Fines': {df['Fines'].isna().sum()}\")"
   ],
   "metadata": {
    "collapsed": false,
    "pycharm": {
     "name": "#%%\n"
    }
   }
  },
  {
   "cell_type": "markdown",
   "source": [
    "## split and parse the make and model"
   ],
   "metadata": {
    "collapsed": false,
    "pycharm": {
     "name": "#%% md\n"
    }
   }
  },
  {
   "cell_type": "code",
   "execution_count": 139,
   "outputs": [],
   "source": [
    "df[['Make', 'Model']] = df['Make_n_model'].apply(lambda x: pd.Series(str(x).split(' ')))"
   ],
   "metadata": {
    "collapsed": false,
    "pycharm": {
     "name": "#%%\n"
    }
   }
  },
  {
   "cell_type": "code",
   "execution_count": 140,
   "outputs": [],
   "source": [
    "df.drop('Make_n_model', axis='columns', inplace=True)"
   ],
   "metadata": {
    "collapsed": false,
    "pycharm": {
     "name": "#%%\n"
    }
   }
  },
  {
   "cell_type": "code",
   "execution_count": 141,
   "outputs": [],
   "source": [],
   "metadata": {
    "collapsed": false,
    "pycharm": {
     "name": "#%%\n"
    }
   }
  }
 ],
 "metadata": {
  "orig_nbformat": 4,
  "language_info": {
   "name": "python",
   "version": "3.9.5",
   "mimetype": "text/x-python",
   "codemirror_mode": {
    "name": "ipython",
    "version": 3
   },
   "pygments_lexer": "ipython3",
   "nbconvert_exporter": "python",
   "file_extension": ".py"
  },
  "kernelspec": {
   "name": "pycharm-9b65ca9c",
   "language": "python",
   "display_name": "PyCharm (Python-Data-Science)"
  },
  "interpreter": {
   "hash": "8e18b69d24f68c9919bf67b325b81ea73d35af1a34a8ee0fdac5e5b467eef411"
  }
 },
 "nbformat": 4,
 "nbformat_minor": 2
}