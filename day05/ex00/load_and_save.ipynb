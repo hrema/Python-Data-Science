{
 "cells": [
  {
   "cell_type": "code",
   "execution_count": 18,
   "source": [
    "import pandas as pd"
   ],
   "outputs": [],
   "metadata": {}
  },
  {
   "cell_type": "markdown",
   "source": [
    "## read_csv"
   ],
   "metadata": {}
  },
  {
   "cell_type": "code",
   "execution_count": 19,
   "source": [
    "df = pd.read_csv(\n",
    "\t'../data/feed-views.log',\n",
    "\tsep='\\t',\n",
    "\theader=None,\n",
    "\tskiprows=[2, 3],\n",
    "\tskipfooter=2)"
   ],
   "outputs": [
    {
     "name": "stderr",
     "output_type": "stream",
     "text": [
      "/Users/hrema/Desktop/Python-Data-Science/venv/lib/python3.7/site-packages/pandas/util/_decorators.py:311: ParserWarning: Falling back to the 'python' engine because the 'c' engine does not support skipfooter; you can avoid this warning by specifying engine='python'.\n",
      "  return func(*args, **kwargs)\n"
     ]
    }
   ],
   "metadata": {}
  },
  {
   "cell_type": "code",
   "execution_count": 20,
   "source": [
    "df.rename(columns={0: 'datetime', 1: 'user'}, inplace=True)"
   ],
   "outputs": [],
   "metadata": {}
  },
  {
   "cell_type": "code",
   "execution_count": 21,
   "source": [
    "df.set_index('datetime', inplace=True)"
   ],
   "outputs": [],
   "metadata": {}
  },
  {
   "cell_type": "markdown",
   "source": [
    "## rename datetime to date_time"
   ],
   "metadata": {}
  },
  {
   "cell_type": "code",
   "execution_count": 22,
   "source": [
    "df.rename_axis('date_time', inplace=True)"
   ],
   "outputs": [],
   "metadata": {}
  },
  {
   "cell_type": "markdown",
   "source": [
    "## Result"
   ],
   "metadata": {}
  },
  {
   "cell_type": "code",
   "execution_count": 23,
   "source": [
    "df.head()"
   ],
   "outputs": [
    {
     "data": {
      "text/plain": "                              user\ndate_time                         \n2020-04-17 12:01:08.463179   artem\n2020-04-17 12:01:23.743946   artem\n2020-04-17 12:35:52.735016   artem\n2020-04-17 12:36:21.401412  oksana\n2020-04-17 12:36:22.023355  oksana",
      "text/html": "<div>\n<style scoped>\n    .dataframe tbody tr th:only-of-type {\n        vertical-align: middle;\n    }\n\n    .dataframe tbody tr th {\n        vertical-align: top;\n    }\n\n    .dataframe thead th {\n        text-align: right;\n    }\n</style>\n<table border=\"1\" class=\"dataframe\">\n  <thead>\n    <tr style=\"text-align: right;\">\n      <th></th>\n      <th>user</th>\n    </tr>\n    <tr>\n      <th>date_time</th>\n      <th></th>\n    </tr>\n  </thead>\n  <tbody>\n    <tr>\n      <th>2020-04-17 12:01:08.463179</th>\n      <td>artem</td>\n    </tr>\n    <tr>\n      <th>2020-04-17 12:01:23.743946</th>\n      <td>artem</td>\n    </tr>\n    <tr>\n      <th>2020-04-17 12:35:52.735016</th>\n      <td>artem</td>\n    </tr>\n    <tr>\n      <th>2020-04-17 12:36:21.401412</th>\n      <td>oksana</td>\n    </tr>\n    <tr>\n      <th>2020-04-17 12:36:22.023355</th>\n      <td>oksana</td>\n    </tr>\n  </tbody>\n</table>\n</div>"
     },
     "execution_count": 23,
     "metadata": {},
     "output_type": "execute_result"
    }
   ],
   "metadata": {}
  },
  {
   "cell_type": "code",
   "execution_count": 24,
   "source": [
    "df.tail()"
   ],
   "outputs": [
    {
     "data": {
      "text/plain": "                                 user\ndate_time                            \n2020-05-21 16:36:40.915488  ekaterina\n2020-05-21 17:49:36.429237      maxim\n2020-05-21 18:45:20.441142  valentina\n2020-05-21 23:03:06.457819      maxim\n2020-05-21 23:23:49.995349      pavel",
      "text/html": "<div>\n<style scoped>\n    .dataframe tbody tr th:only-of-type {\n        vertical-align: middle;\n    }\n\n    .dataframe tbody tr th {\n        vertical-align: top;\n    }\n\n    .dataframe thead th {\n        text-align: right;\n    }\n</style>\n<table border=\"1\" class=\"dataframe\">\n  <thead>\n    <tr style=\"text-align: right;\">\n      <th></th>\n      <th>user</th>\n    </tr>\n    <tr>\n      <th>date_time</th>\n      <th></th>\n    </tr>\n  </thead>\n  <tbody>\n    <tr>\n      <th>2020-05-21 16:36:40.915488</th>\n      <td>ekaterina</td>\n    </tr>\n    <tr>\n      <th>2020-05-21 17:49:36.429237</th>\n      <td>maxim</td>\n    </tr>\n    <tr>\n      <th>2020-05-21 18:45:20.441142</th>\n      <td>valentina</td>\n    </tr>\n    <tr>\n      <th>2020-05-21 23:03:06.457819</th>\n      <td>maxim</td>\n    </tr>\n    <tr>\n      <th>2020-05-21 23:23:49.995349</th>\n      <td>pavel</td>\n    </tr>\n  </tbody>\n</table>\n</div>"
     },
     "execution_count": 24,
     "metadata": {},
     "output_type": "execute_result"
    }
   ],
   "metadata": {}
  },
  {
   "cell_type": "markdown",
   "source": [
    "## to_csv"
   ],
   "metadata": {}
  },
  {
   "cell_type": "code",
   "execution_count": 25,
   "source": [
    "df.to_csv('../data/feed-views-semicolon.log', sep=';')"
   ],
   "outputs": [],
   "metadata": {}
  }
 ],
 "metadata": {
  "orig_nbformat": 4,
  "language_info": {
   "name": "python"
  },
  "kernelspec": {
   "name": "pycharm-9b65ca9c",
   "language": "python",
   "display_name": "PyCharm (Python-Data-Science)"
  }
 },
 "nbformat": 4,
 "nbformat_minor": 2
}