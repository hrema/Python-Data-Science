{
 "cells": [
  {
   "cell_type": "code",
   "execution_count": 49,
   "metadata": {
    "collapsed": true
   },
   "outputs": [],
   "source": [
    "import pandas as pd"
   ]
  },
  {
   "cell_type": "markdown",
   "source": [
    "## read the fines.csv that you saved in the previous exercise"
   ],
   "metadata": {
    "collapsed": false,
    "pycharm": {
     "name": "#%% md\n"
    }
   }
  },
  {
   "cell_type": "code",
   "execution_count": 50,
   "outputs": [],
   "source": [
    "fines = pd.read_csv('../data/fines.csv')"
   ],
   "metadata": {
    "collapsed": false,
    "pycharm": {
     "name": "#%%\n"
    }
   }
  },
  {
   "cell_type": "code",
   "execution_count": 51,
   "outputs": [],
   "source": [
    "# fines"
   ],
   "metadata": {
    "collapsed": false,
    "pycharm": {
     "name": "#%%\n"
    }
   }
  },
  {
   "cell_type": "markdown",
   "source": [
    "## iterations: in all the following subtasks, you need to calculate fines/refund*year for each row and create a new column with the calculated data and measure the time using the magic command %%timeit in the cell"
   ],
   "metadata": {
    "collapsed": false,
    "pycharm": {
     "name": "#%% md\n"
    }
   }
  },
  {
   "cell_type": "code",
   "execution_count": 52,
   "outputs": [],
   "source": [
    "def calc_value(fines_value, refund_value, year_value):\n",
    "    return fines_value / refund_value * year_value"
   ],
   "metadata": {
    "collapsed": false,
    "pycharm": {
     "name": "#%%\n"
    }
   }
  },
  {
   "cell_type": "code",
   "execution_count": 53,
   "outputs": [],
   "source": [
    "fines_copy = fines.copy()"
   ],
   "metadata": {
    "collapsed": false,
    "pycharm": {
     "name": "#%%\n"
    }
   }
  },
  {
   "cell_type": "code",
   "execution_count": 54,
   "outputs": [],
   "source": [
    "def calculated_loop(df):\n",
    "    new_column = list()\n",
    "    for i in range(0, len(df)):\n",
    "        value = calc_value(df['Fines'].iloc[i], df['Refund'].iloc[i], df['Year'].iloc[i])\n",
    "        new_column.append(value)\n",
    "    return new_column"
   ],
   "metadata": {
    "collapsed": false,
    "pycharm": {
     "name": "#%%\n"
    }
   }
  },
  {
   "cell_type": "code",
   "execution_count": 55,
   "outputs": [
    {
     "name": "stdout",
     "output_type": "stream",
     "text": [
      "29.7 ms ± 6.41 ms per loop (mean ± std. dev. of 7 runs, 10 loops each)\n"
     ]
    }
   ],
   "source": [
    "%%timeit\n",
    "fines_copy['calc_values'] = calculated_loop(fines_copy)"
   ],
   "metadata": {
    "collapsed": false,
    "pycharm": {
     "name": "#%%\n"
    }
   }
  },
  {
   "cell_type": "code",
   "execution_count": 56,
   "outputs": [],
   "source": [
    "# fines_copy"
   ],
   "metadata": {
    "collapsed": false,
    "pycharm": {
     "name": "#%%\n"
    }
   }
  },
  {
   "cell_type": "code",
   "execution_count": 57,
   "outputs": [],
   "source": [
    "fines_copy = fines.copy()"
   ],
   "metadata": {
    "collapsed": false,
    "pycharm": {
     "name": "#%%\n"
    }
   }
  },
  {
   "cell_type": "code",
   "execution_count": 58,
   "outputs": [],
   "source": [
    "def calculated_iterrows(df):\n",
    "    new_column = list()\n",
    "    for i, j in df.iterrows():\n",
    "        value = calc_value(j['Fines'], j['Refund'], j['Year'])\n",
    "        new_column.append(value)\n",
    "    return new_column"
   ],
   "metadata": {
    "collapsed": false,
    "pycharm": {
     "name": "#%%\n"
    }
   }
  },
  {
   "cell_type": "code",
   "execution_count": 59,
   "outputs": [
    {
     "name": "stdout",
     "output_type": "stream",
     "text": [
      "49.4 ms ± 1.78 ms per loop (mean ± std. dev. of 7 runs, 10 loops each)\n"
     ]
    }
   ],
   "source": [
    "%%timeit\n",
    "fines_copy['calc_values'] = calculated_iterrows(fines_copy)"
   ],
   "metadata": {
    "collapsed": false,
    "pycharm": {
     "name": "#%%\n"
    }
   }
  },
  {
   "cell_type": "code",
   "execution_count": 60,
   "outputs": [],
   "source": [
    "# fines_copy"
   ],
   "metadata": {
    "collapsed": false,
    "pycharm": {
     "name": "#%%\n"
    }
   }
  },
  {
   "cell_type": "code",
   "execution_count": 61,
   "outputs": [],
   "source": [
    "fines_copy = fines.copy()"
   ],
   "metadata": {
    "collapsed": false,
    "pycharm": {
     "name": "#%%\n"
    }
   }
  },
  {
   "cell_type": "code",
   "execution_count": 62,
   "outputs": [
    {
     "name": "stdout",
     "output_type": "stream",
     "text": [
      "14.4 ms ± 280 µs per loop (mean ± std. dev. of 7 runs, 100 loops each)\n"
     ]
    }
   ],
   "source": [
    "%%timeit\n",
    "fines_copy['calc_values'] = fines_copy.apply(lambda row: calc_value(row['Fines'], row['Refund'], row['Year']), axis=1)"
   ],
   "metadata": {
    "collapsed": false,
    "pycharm": {
     "name": "#%%\n"
    }
   }
  },
  {
   "cell_type": "code",
   "execution_count": 63,
   "outputs": [],
   "source": [
    "# fines_copy"
   ],
   "metadata": {
    "collapsed": false,
    "pycharm": {
     "name": "#%%\n"
    }
   }
  },
  {
   "cell_type": "code",
   "execution_count": 64,
   "outputs": [],
   "source": [
    "fines_copy = fines.copy()"
   ],
   "metadata": {
    "collapsed": false,
    "pycharm": {
     "name": "#%%\n"
    }
   }
  },
  {
   "cell_type": "code",
   "execution_count": 65,
   "outputs": [
    {
     "name": "stdout",
     "output_type": "stream",
     "text": [
      "472 µs ± 7.63 µs per loop (mean ± std. dev. of 7 runs, 1000 loops each)\n"
     ]
    }
   ],
   "source": [
    "%%timeit\n",
    "fines_copy['calc_values'] = calc_value(fines_copy['Fines'], fines_copy['Refund'], fines_copy['Year'])"
   ],
   "metadata": {
    "collapsed": false,
    "pycharm": {
     "name": "#%%\n"
    }
   }
  },
  {
   "cell_type": "code",
   "execution_count": 66,
   "outputs": [],
   "source": [
    "# fines_copy"
   ],
   "metadata": {
    "collapsed": false,
    "pycharm": {
     "name": "#%%\n"
    }
   }
  },
  {
   "cell_type": "code",
   "execution_count": 67,
   "outputs": [],
   "source": [
    "fines_copy = fines.copy()"
   ],
   "metadata": {
    "collapsed": false,
    "pycharm": {
     "name": "#%%\n"
    }
   }
  },
  {
   "cell_type": "code",
   "execution_count": 68,
   "outputs": [
    {
     "name": "stdout",
     "output_type": "stream",
     "text": [
      "487 µs ± 4.33 µs per loop (mean ± std. dev. of 7 runs, 1000 loops each)\n"
     ]
    }
   ],
   "source": [
    "%%timeit\n",
    "fines_copy['calc_values'] = calc_value(fines_copy['Fines'].values, fines_copy['Refund'], fines_copy['Year'])"
   ],
   "metadata": {
    "collapsed": false,
    "pycharm": {
     "name": "#%%\n"
    }
   }
  },
  {
   "cell_type": "code",
   "execution_count": 69,
   "outputs": [],
   "source": [
    "# fines_copy"
   ],
   "metadata": {
    "collapsed": false,
    "pycharm": {
     "name": "#%%\n"
    }
   }
  },
  {
   "cell_type": "markdown",
   "source": [
    "## indexing: measure the time using the magic command %%timeit in the cell"
   ],
   "metadata": {
    "collapsed": false,
    "pycharm": {
     "name": "#%% md\n"
    }
   }
  },
  {
   "cell_type": "code",
   "execution_count": 93,
   "outputs": [],
   "source": [
    "fines_copy = fines.copy()"
   ],
   "metadata": {
    "collapsed": false,
    "pycharm": {
     "name": "#%%\n"
    }
   }
  },
  {
   "cell_type": "code",
   "execution_count": 94,
   "outputs": [
    {
     "data": {
      "text/plain": "        CarNumber  Refund    Fines    Make  Model  Year\n0    Y163O8161RUS       2   3200.0    Ford  Focus  1989\n1     E432XX77RUS       1   6500.0  Toyota  Camry  1995\n2     7184TT36RUS       1   2100.0    Ford  Focus  1984\n3    X582HE161RUS       2   2000.0    Ford  Focus  2015\n4    92918M178RUS       1   5700.0    Ford  Focus  2014\n..            ...     ...      ...     ...    ...   ...\n925   K307NA30RUS       2   7327.0    Audi    RS7  2015\n926  X007OB190RUS       1  10964.0     Kia    Rio  2009\n927  H729HO170RUS       1  11336.0     BMW     Z4  2019\n928   K961KC12RUS       2  25228.0     BMW     M3  2021\n929   B874EH45RUS       1  14490.0    Audi     Q5  2008\n\n[930 rows x 6 columns]",
      "text/html": "<div>\n<style scoped>\n    .dataframe tbody tr th:only-of-type {\n        vertical-align: middle;\n    }\n\n    .dataframe tbody tr th {\n        vertical-align: top;\n    }\n\n    .dataframe thead th {\n        text-align: right;\n    }\n</style>\n<table border=\"1\" class=\"dataframe\">\n  <thead>\n    <tr style=\"text-align: right;\">\n      <th></th>\n      <th>CarNumber</th>\n      <th>Refund</th>\n      <th>Fines</th>\n      <th>Make</th>\n      <th>Model</th>\n      <th>Year</th>\n    </tr>\n  </thead>\n  <tbody>\n    <tr>\n      <th>0</th>\n      <td>Y163O8161RUS</td>\n      <td>2</td>\n      <td>3200.0</td>\n      <td>Ford</td>\n      <td>Focus</td>\n      <td>1989</td>\n    </tr>\n    <tr>\n      <th>1</th>\n      <td>E432XX77RUS</td>\n      <td>1</td>\n      <td>6500.0</td>\n      <td>Toyota</td>\n      <td>Camry</td>\n      <td>1995</td>\n    </tr>\n    <tr>\n      <th>2</th>\n      <td>7184TT36RUS</td>\n      <td>1</td>\n      <td>2100.0</td>\n      <td>Ford</td>\n      <td>Focus</td>\n      <td>1984</td>\n    </tr>\n    <tr>\n      <th>3</th>\n      <td>X582HE161RUS</td>\n      <td>2</td>\n      <td>2000.0</td>\n      <td>Ford</td>\n      <td>Focus</td>\n      <td>2015</td>\n    </tr>\n    <tr>\n      <th>4</th>\n      <td>92918M178RUS</td>\n      <td>1</td>\n      <td>5700.0</td>\n      <td>Ford</td>\n      <td>Focus</td>\n      <td>2014</td>\n    </tr>\n    <tr>\n      <th>...</th>\n      <td>...</td>\n      <td>...</td>\n      <td>...</td>\n      <td>...</td>\n      <td>...</td>\n      <td>...</td>\n    </tr>\n    <tr>\n      <th>925</th>\n      <td>K307NA30RUS</td>\n      <td>2</td>\n      <td>7327.0</td>\n      <td>Audi</td>\n      <td>RS7</td>\n      <td>2015</td>\n    </tr>\n    <tr>\n      <th>926</th>\n      <td>X007OB190RUS</td>\n      <td>1</td>\n      <td>10964.0</td>\n      <td>Kia</td>\n      <td>Rio</td>\n      <td>2009</td>\n    </tr>\n    <tr>\n      <th>927</th>\n      <td>H729HO170RUS</td>\n      <td>1</td>\n      <td>11336.0</td>\n      <td>BMW</td>\n      <td>Z4</td>\n      <td>2019</td>\n    </tr>\n    <tr>\n      <th>928</th>\n      <td>K961KC12RUS</td>\n      <td>2</td>\n      <td>25228.0</td>\n      <td>BMW</td>\n      <td>M3</td>\n      <td>2021</td>\n    </tr>\n    <tr>\n      <th>929</th>\n      <td>B874EH45RUS</td>\n      <td>1</td>\n      <td>14490.0</td>\n      <td>Audi</td>\n      <td>Q5</td>\n      <td>2008</td>\n    </tr>\n  </tbody>\n</table>\n<p>930 rows × 6 columns</p>\n</div>"
     },
     "execution_count": 94,
     "metadata": {},
     "output_type": "execute_result"
    }
   ],
   "source": [
    "fines_copy"
   ],
   "metadata": {
    "collapsed": false,
    "pycharm": {
     "name": "#%%\n"
    }
   }
  },
  {
   "cell_type": "code",
   "execution_count": 95,
   "outputs": [
    {
     "name": "stdout",
     "output_type": "stream",
     "text": [
      "335 µs ± 18.5 µs per loop (mean ± std. dev. of 7 runs, 1000 loops each)\n"
     ]
    }
   ],
   "source": [
    "%timeit fines_copy[fines_copy['CarNumber'] == 'O136HO197RUS']"
   ],
   "metadata": {
    "collapsed": false,
    "pycharm": {
     "name": "#%%\n"
    }
   }
  },
  {
   "cell_type": "code",
   "execution_count": 96,
   "outputs": [
    {
     "data": {
      "text/plain": "              Refund    Fines    Make  Model  Year\nCarNumber                                         \nY163O8161RUS       2   3200.0    Ford  Focus  1989\nE432XX77RUS        1   6500.0  Toyota  Camry  1995\n7184TT36RUS        1   2100.0    Ford  Focus  1984\nX582HE161RUS       2   2000.0    Ford  Focus  2015\n92918M178RUS       1   5700.0    Ford  Focus  2014\n...              ...      ...     ...    ...   ...\nK307NA30RUS        2   7327.0    Audi    RS7  2015\nX007OB190RUS       1  10964.0     Kia    Rio  2009\nH729HO170RUS       1  11336.0     BMW     Z4  2019\nK961KC12RUS        2  25228.0     BMW     M3  2021\nB874EH45RUS        1  14490.0    Audi     Q5  2008\n\n[930 rows x 5 columns]",
      "text/html": "<div>\n<style scoped>\n    .dataframe tbody tr th:only-of-type {\n        vertical-align: middle;\n    }\n\n    .dataframe tbody tr th {\n        vertical-align: top;\n    }\n\n    .dataframe thead th {\n        text-align: right;\n    }\n</style>\n<table border=\"1\" class=\"dataframe\">\n  <thead>\n    <tr style=\"text-align: right;\">\n      <th></th>\n      <th>Refund</th>\n      <th>Fines</th>\n      <th>Make</th>\n      <th>Model</th>\n      <th>Year</th>\n    </tr>\n    <tr>\n      <th>CarNumber</th>\n      <th></th>\n      <th></th>\n      <th></th>\n      <th></th>\n      <th></th>\n    </tr>\n  </thead>\n  <tbody>\n    <tr>\n      <th>Y163O8161RUS</th>\n      <td>2</td>\n      <td>3200.0</td>\n      <td>Ford</td>\n      <td>Focus</td>\n      <td>1989</td>\n    </tr>\n    <tr>\n      <th>E432XX77RUS</th>\n      <td>1</td>\n      <td>6500.0</td>\n      <td>Toyota</td>\n      <td>Camry</td>\n      <td>1995</td>\n    </tr>\n    <tr>\n      <th>7184TT36RUS</th>\n      <td>1</td>\n      <td>2100.0</td>\n      <td>Ford</td>\n      <td>Focus</td>\n      <td>1984</td>\n    </tr>\n    <tr>\n      <th>X582HE161RUS</th>\n      <td>2</td>\n      <td>2000.0</td>\n      <td>Ford</td>\n      <td>Focus</td>\n      <td>2015</td>\n    </tr>\n    <tr>\n      <th>92918M178RUS</th>\n      <td>1</td>\n      <td>5700.0</td>\n      <td>Ford</td>\n      <td>Focus</td>\n      <td>2014</td>\n    </tr>\n    <tr>\n      <th>...</th>\n      <td>...</td>\n      <td>...</td>\n      <td>...</td>\n      <td>...</td>\n      <td>...</td>\n    </tr>\n    <tr>\n      <th>K307NA30RUS</th>\n      <td>2</td>\n      <td>7327.0</td>\n      <td>Audi</td>\n      <td>RS7</td>\n      <td>2015</td>\n    </tr>\n    <tr>\n      <th>X007OB190RUS</th>\n      <td>1</td>\n      <td>10964.0</td>\n      <td>Kia</td>\n      <td>Rio</td>\n      <td>2009</td>\n    </tr>\n    <tr>\n      <th>H729HO170RUS</th>\n      <td>1</td>\n      <td>11336.0</td>\n      <td>BMW</td>\n      <td>Z4</td>\n      <td>2019</td>\n    </tr>\n    <tr>\n      <th>K961KC12RUS</th>\n      <td>2</td>\n      <td>25228.0</td>\n      <td>BMW</td>\n      <td>M3</td>\n      <td>2021</td>\n    </tr>\n    <tr>\n      <th>B874EH45RUS</th>\n      <td>1</td>\n      <td>14490.0</td>\n      <td>Audi</td>\n      <td>Q5</td>\n      <td>2008</td>\n    </tr>\n  </tbody>\n</table>\n<p>930 rows × 5 columns</p>\n</div>"
     },
     "execution_count": 96,
     "metadata": {},
     "output_type": "execute_result"
    }
   ],
   "source": [
    "fines_copy.set_index('CarNumber')"
   ],
   "metadata": {
    "collapsed": false,
    "pycharm": {
     "name": "#%%\n"
    }
   }
  },
  {
   "cell_type": "code",
   "execution_count": 97,
   "outputs": [
    {
     "data": {
      "text/plain": "        CarNumber  Refund    Fines    Make  Model  Year\n0    Y163O8161RUS       2   3200.0    Ford  Focus  1989\n1     E432XX77RUS       1   6500.0  Toyota  Camry  1995\n2     7184TT36RUS       1   2100.0    Ford  Focus  1984\n3    X582HE161RUS       2   2000.0    Ford  Focus  2015\n4    92918M178RUS       1   5700.0    Ford  Focus  2014\n..            ...     ...      ...     ...    ...   ...\n925   K307NA30RUS       2   7327.0    Audi    RS7  2015\n926  X007OB190RUS       1  10964.0     Kia    Rio  2009\n927  H729HO170RUS       1  11336.0     BMW     Z4  2019\n928   K961KC12RUS       2  25228.0     BMW     M3  2021\n929   B874EH45RUS       1  14490.0    Audi     Q5  2008\n\n[930 rows x 6 columns]",
      "text/html": "<div>\n<style scoped>\n    .dataframe tbody tr th:only-of-type {\n        vertical-align: middle;\n    }\n\n    .dataframe tbody tr th {\n        vertical-align: top;\n    }\n\n    .dataframe thead th {\n        text-align: right;\n    }\n</style>\n<table border=\"1\" class=\"dataframe\">\n  <thead>\n    <tr style=\"text-align: right;\">\n      <th></th>\n      <th>CarNumber</th>\n      <th>Refund</th>\n      <th>Fines</th>\n      <th>Make</th>\n      <th>Model</th>\n      <th>Year</th>\n    </tr>\n  </thead>\n  <tbody>\n    <tr>\n      <th>0</th>\n      <td>Y163O8161RUS</td>\n      <td>2</td>\n      <td>3200.0</td>\n      <td>Ford</td>\n      <td>Focus</td>\n      <td>1989</td>\n    </tr>\n    <tr>\n      <th>1</th>\n      <td>E432XX77RUS</td>\n      <td>1</td>\n      <td>6500.0</td>\n      <td>Toyota</td>\n      <td>Camry</td>\n      <td>1995</td>\n    </tr>\n    <tr>\n      <th>2</th>\n      <td>7184TT36RUS</td>\n      <td>1</td>\n      <td>2100.0</td>\n      <td>Ford</td>\n      <td>Focus</td>\n      <td>1984</td>\n    </tr>\n    <tr>\n      <th>3</th>\n      <td>X582HE161RUS</td>\n      <td>2</td>\n      <td>2000.0</td>\n      <td>Ford</td>\n      <td>Focus</td>\n      <td>2015</td>\n    </tr>\n    <tr>\n      <th>4</th>\n      <td>92918M178RUS</td>\n      <td>1</td>\n      <td>5700.0</td>\n      <td>Ford</td>\n      <td>Focus</td>\n      <td>2014</td>\n    </tr>\n    <tr>\n      <th>...</th>\n      <td>...</td>\n      <td>...</td>\n      <td>...</td>\n      <td>...</td>\n      <td>...</td>\n      <td>...</td>\n    </tr>\n    <tr>\n      <th>925</th>\n      <td>K307NA30RUS</td>\n      <td>2</td>\n      <td>7327.0</td>\n      <td>Audi</td>\n      <td>RS7</td>\n      <td>2015</td>\n    </tr>\n    <tr>\n      <th>926</th>\n      <td>X007OB190RUS</td>\n      <td>1</td>\n      <td>10964.0</td>\n      <td>Kia</td>\n      <td>Rio</td>\n      <td>2009</td>\n    </tr>\n    <tr>\n      <th>927</th>\n      <td>H729HO170RUS</td>\n      <td>1</td>\n      <td>11336.0</td>\n      <td>BMW</td>\n      <td>Z4</td>\n      <td>2019</td>\n    </tr>\n    <tr>\n      <th>928</th>\n      <td>K961KC12RUS</td>\n      <td>2</td>\n      <td>25228.0</td>\n      <td>BMW</td>\n      <td>M3</td>\n      <td>2021</td>\n    </tr>\n    <tr>\n      <th>929</th>\n      <td>B874EH45RUS</td>\n      <td>1</td>\n      <td>14490.0</td>\n      <td>Audi</td>\n      <td>Q5</td>\n      <td>2008</td>\n    </tr>\n  </tbody>\n</table>\n<p>930 rows × 6 columns</p>\n</div>"
     },
     "execution_count": 97,
     "metadata": {},
     "output_type": "execute_result"
    }
   ],
   "source": [
    "fines_copy"
   ],
   "metadata": {
    "collapsed": false,
    "pycharm": {
     "name": "#%%\n"
    }
   }
  },
  {
   "cell_type": "code",
   "execution_count": 88,
   "outputs": [
    {
     "name": "stdout",
     "output_type": "stream",
     "text": [
      "134 µs ± 3.09 µs per loop (mean ± std. dev. of 7 runs, 10000 loops each)\n"
     ]
    }
   ],
   "source": [
    "%%timeit\n",
    "fines_copy.loc['O136HO197RUS']"
   ],
   "metadata": {
    "collapsed": false,
    "pycharm": {
     "name": "#%%\n"
    }
   }
  },
  {
   "cell_type": "code",
   "execution_count": null,
   "outputs": [],
   "source": [],
   "metadata": {
    "collapsed": false,
    "pycharm": {
     "name": "#%%\n"
    }
   }
  }
 ],
 "metadata": {
  "kernelspec": {
   "display_name": "Python 3",
   "language": "python",
   "name": "python3"
  },
  "language_info": {
   "codemirror_mode": {
    "name": "ipython",
    "version": 2
   },
   "file_extension": ".py",
   "mimetype": "text/x-python",
   "name": "python",
   "nbconvert_exporter": "python",
   "pygments_lexer": "ipython2",
   "version": "2.7.6"
  }
 },
 "nbformat": 4,
 "nbformat_minor": 0
}