{
 "cells": [
  {
   "cell_type": "code",
   "execution_count": 1,
   "metadata": {
    "collapsed": true
   },
   "outputs": [],
   "source": [
    "import pandas as pd"
   ]
  },
  {
   "cell_type": "markdown",
   "source": [
    "## read the fines.csv that you saved in the previous exercise"
   ],
   "metadata": {
    "collapsed": false,
    "pycharm": {
     "name": "#%% md\n"
    }
   }
  },
  {
   "cell_type": "code",
   "execution_count": 19,
   "outputs": [],
   "source": [
    "fines = pd.read_csv('../data/fines.csv')"
   ],
   "metadata": {
    "collapsed": false,
    "pycharm": {
     "name": "#%%\n"
    }
   }
  },
  {
   "cell_type": "code",
   "execution_count": 15,
   "outputs": [
    {
     "data": {
      "text/plain": "        CarNumber  Refund    Fines    Make  Model  Year\n0    Y163O8161RUS       2   3200.0    Ford  Focus  1989\n1     E432XX77RUS       1   6500.0  Toyota  Camry  1995\n2     7184TT36RUS       1   2100.0    Ford  Focus  1984\n3    X582HE161RUS       2   2000.0    Ford  Focus  2015\n4    92918M178RUS       1   5700.0    Ford  Focus  2014\n..            ...     ...      ...     ...    ...   ...\n925   K307NA30RUS       2   7327.0    Audi    RS7  2015\n926  X007OB190RUS       1  10964.0     Kia    Rio  2009\n927  H729HO170RUS       1  11336.0     BMW     Z4  2019\n928   K961KC12RUS       2  25228.0     BMW     M3  2021\n929   B874EH45RUS       1  14490.0    Audi     Q5  2008\n\n[930 rows x 6 columns]",
      "text/html": "<div>\n<style scoped>\n    .dataframe tbody tr th:only-of-type {\n        vertical-align: middle;\n    }\n\n    .dataframe tbody tr th {\n        vertical-align: top;\n    }\n\n    .dataframe thead th {\n        text-align: right;\n    }\n</style>\n<table border=\"1\" class=\"dataframe\">\n  <thead>\n    <tr style=\"text-align: right;\">\n      <th></th>\n      <th>CarNumber</th>\n      <th>Refund</th>\n      <th>Fines</th>\n      <th>Make</th>\n      <th>Model</th>\n      <th>Year</th>\n    </tr>\n  </thead>\n  <tbody>\n    <tr>\n      <th>0</th>\n      <td>Y163O8161RUS</td>\n      <td>2</td>\n      <td>3200.0</td>\n      <td>Ford</td>\n      <td>Focus</td>\n      <td>1989</td>\n    </tr>\n    <tr>\n      <th>1</th>\n      <td>E432XX77RUS</td>\n      <td>1</td>\n      <td>6500.0</td>\n      <td>Toyota</td>\n      <td>Camry</td>\n      <td>1995</td>\n    </tr>\n    <tr>\n      <th>2</th>\n      <td>7184TT36RUS</td>\n      <td>1</td>\n      <td>2100.0</td>\n      <td>Ford</td>\n      <td>Focus</td>\n      <td>1984</td>\n    </tr>\n    <tr>\n      <th>3</th>\n      <td>X582HE161RUS</td>\n      <td>2</td>\n      <td>2000.0</td>\n      <td>Ford</td>\n      <td>Focus</td>\n      <td>2015</td>\n    </tr>\n    <tr>\n      <th>4</th>\n      <td>92918M178RUS</td>\n      <td>1</td>\n      <td>5700.0</td>\n      <td>Ford</td>\n      <td>Focus</td>\n      <td>2014</td>\n    </tr>\n    <tr>\n      <th>...</th>\n      <td>...</td>\n      <td>...</td>\n      <td>...</td>\n      <td>...</td>\n      <td>...</td>\n      <td>...</td>\n    </tr>\n    <tr>\n      <th>925</th>\n      <td>K307NA30RUS</td>\n      <td>2</td>\n      <td>7327.0</td>\n      <td>Audi</td>\n      <td>RS7</td>\n      <td>2015</td>\n    </tr>\n    <tr>\n      <th>926</th>\n      <td>X007OB190RUS</td>\n      <td>1</td>\n      <td>10964.0</td>\n      <td>Kia</td>\n      <td>Rio</td>\n      <td>2009</td>\n    </tr>\n    <tr>\n      <th>927</th>\n      <td>H729HO170RUS</td>\n      <td>1</td>\n      <td>11336.0</td>\n      <td>BMW</td>\n      <td>Z4</td>\n      <td>2019</td>\n    </tr>\n    <tr>\n      <th>928</th>\n      <td>K961KC12RUS</td>\n      <td>2</td>\n      <td>25228.0</td>\n      <td>BMW</td>\n      <td>M3</td>\n      <td>2021</td>\n    </tr>\n    <tr>\n      <th>929</th>\n      <td>B874EH45RUS</td>\n      <td>1</td>\n      <td>14490.0</td>\n      <td>Audi</td>\n      <td>Q5</td>\n      <td>2008</td>\n    </tr>\n  </tbody>\n</table>\n<p>930 rows × 6 columns</p>\n</div>"
     },
     "execution_count": 15,
     "metadata": {},
     "output_type": "execute_result"
    }
   ],
   "source": [
    "fines"
   ],
   "metadata": {
    "collapsed": false,
    "pycharm": {
     "name": "#%%\n"
    }
   }
  },
  {
   "cell_type": "markdown",
   "source": [
    "## iterations: in all the following subtasks, you need to calculate fines/refund*year for each row and create a new column with the calculated data and measure the time using the magic command %%timeit in the cell"
   ],
   "metadata": {
    "collapsed": false,
    "pycharm": {
     "name": "#%% md\n"
    }
   }
  },
  {
   "cell_type": "code",
   "execution_count": 16,
   "outputs": [],
   "source": [
    "# fines_copy = fines"
   ],
   "metadata": {
    "collapsed": false,
    "pycharm": {
     "name": "#%%\n"
    }
   }
  },
  {
   "cell_type": "code",
   "execution_count": 20,
   "outputs": [
    {
     "name": "stdout",
     "output_type": "stream",
     "text": [
      "22.6 ms ± 1.62 ms per loop (mean ± std. dev. of 7 runs, 10 loops each)\n"
     ]
    }
   ],
   "source": [
    "%%timeit\n",
    "\n",
    "def calculated_loop(df):\n",
    "    new_column = []\n",
    "    for i in range(0, len(df)):\n",
    "        calc_data = df['Fines'].iloc[i] / df['Refund'].iloc[i] * df['Year'].iloc[i]\n",
    "        new_column.append(calc_data)\n",
    "    df['calc_data'] = new_column\n",
    "    return df\n",
    "\n",
    "calculated_loop(fines.copy())"
   ],
   "metadata": {
    "collapsed": false,
    "pycharm": {
     "name": "#%%\n"
    }
   }
  },
  {
   "cell_type": "code",
   "execution_count": 21,
   "outputs": [
    {
     "data": {
      "text/plain": "        CarNumber  Refund    Fines    Make  Model  Year\n0    Y163O8161RUS       2   3200.0    Ford  Focus  1989\n1     E432XX77RUS       1   6500.0  Toyota  Camry  1995\n2     7184TT36RUS       1   2100.0    Ford  Focus  1984\n3    X582HE161RUS       2   2000.0    Ford  Focus  2015\n4    92918M178RUS       1   5700.0    Ford  Focus  2014\n..            ...     ...      ...     ...    ...   ...\n925   K307NA30RUS       2   7327.0    Audi    RS7  2015\n926  X007OB190RUS       1  10964.0     Kia    Rio  2009\n927  H729HO170RUS       1  11336.0     BMW     Z4  2019\n928   K961KC12RUS       2  25228.0     BMW     M3  2021\n929   B874EH45RUS       1  14490.0    Audi     Q5  2008\n\n[930 rows x 6 columns]",
      "text/html": "<div>\n<style scoped>\n    .dataframe tbody tr th:only-of-type {\n        vertical-align: middle;\n    }\n\n    .dataframe tbody tr th {\n        vertical-align: top;\n    }\n\n    .dataframe thead th {\n        text-align: right;\n    }\n</style>\n<table border=\"1\" class=\"dataframe\">\n  <thead>\n    <tr style=\"text-align: right;\">\n      <th></th>\n      <th>CarNumber</th>\n      <th>Refund</th>\n      <th>Fines</th>\n      <th>Make</th>\n      <th>Model</th>\n      <th>Year</th>\n    </tr>\n  </thead>\n  <tbody>\n    <tr>\n      <th>0</th>\n      <td>Y163O8161RUS</td>\n      <td>2</td>\n      <td>3200.0</td>\n      <td>Ford</td>\n      <td>Focus</td>\n      <td>1989</td>\n    </tr>\n    <tr>\n      <th>1</th>\n      <td>E432XX77RUS</td>\n      <td>1</td>\n      <td>6500.0</td>\n      <td>Toyota</td>\n      <td>Camry</td>\n      <td>1995</td>\n    </tr>\n    <tr>\n      <th>2</th>\n      <td>7184TT36RUS</td>\n      <td>1</td>\n      <td>2100.0</td>\n      <td>Ford</td>\n      <td>Focus</td>\n      <td>1984</td>\n    </tr>\n    <tr>\n      <th>3</th>\n      <td>X582HE161RUS</td>\n      <td>2</td>\n      <td>2000.0</td>\n      <td>Ford</td>\n      <td>Focus</td>\n      <td>2015</td>\n    </tr>\n    <tr>\n      <th>4</th>\n      <td>92918M178RUS</td>\n      <td>1</td>\n      <td>5700.0</td>\n      <td>Ford</td>\n      <td>Focus</td>\n      <td>2014</td>\n    </tr>\n    <tr>\n      <th>...</th>\n      <td>...</td>\n      <td>...</td>\n      <td>...</td>\n      <td>...</td>\n      <td>...</td>\n      <td>...</td>\n    </tr>\n    <tr>\n      <th>925</th>\n      <td>K307NA30RUS</td>\n      <td>2</td>\n      <td>7327.0</td>\n      <td>Audi</td>\n      <td>RS7</td>\n      <td>2015</td>\n    </tr>\n    <tr>\n      <th>926</th>\n      <td>X007OB190RUS</td>\n      <td>1</td>\n      <td>10964.0</td>\n      <td>Kia</td>\n      <td>Rio</td>\n      <td>2009</td>\n    </tr>\n    <tr>\n      <th>927</th>\n      <td>H729HO170RUS</td>\n      <td>1</td>\n      <td>11336.0</td>\n      <td>BMW</td>\n      <td>Z4</td>\n      <td>2019</td>\n    </tr>\n    <tr>\n      <th>928</th>\n      <td>K961KC12RUS</td>\n      <td>2</td>\n      <td>25228.0</td>\n      <td>BMW</td>\n      <td>M3</td>\n      <td>2021</td>\n    </tr>\n    <tr>\n      <th>929</th>\n      <td>B874EH45RUS</td>\n      <td>1</td>\n      <td>14490.0</td>\n      <td>Audi</td>\n      <td>Q5</td>\n      <td>2008</td>\n    </tr>\n  </tbody>\n</table>\n<p>930 rows × 6 columns</p>\n</div>"
     },
     "execution_count": 21,
     "metadata": {},
     "output_type": "execute_result"
    }
   ],
   "source": [
    "# fines"
   ],
   "metadata": {
    "collapsed": false,
    "pycharm": {
     "name": "#%%\n"
    }
   }
  },
  {
   "cell_type": "code",
   "execution_count": 25,
   "outputs": [
    {
     "name": "stdout",
     "output_type": "stream",
     "text": [
      "        CarNumber  Refund    Fines    Make  Model  Year\n",
      "0    Y163O8161RUS       2   3200.0    Ford  Focus  1989\n",
      "1     E432XX77RUS       1   6500.0  Toyota  Camry  1995\n",
      "2     7184TT36RUS       1   2100.0    Ford  Focus  1984\n",
      "3    X582HE161RUS       2   2000.0    Ford  Focus  2015\n",
      "4    92918M178RUS       1   5700.0    Ford  Focus  2014\n",
      "..            ...     ...      ...     ...    ...   ...\n",
      "925   K307NA30RUS       2   7327.0    Audi    RS7  2015\n",
      "926  X007OB190RUS       1  10964.0     Kia    Rio  2009\n",
      "927  H729HO170RUS       1  11336.0     BMW     Z4  2019\n",
      "928   K961KC12RUS       2  25228.0     BMW     M3  2021\n",
      "929   B874EH45RUS       1  14490.0    Audi     Q5  2008\n",
      "\n",
      "[930 rows x 6 columns]\n",
      "        CarNumber  Refund    Fines    Make  Model  Year\n",
      "0    Y163O8161RUS       2   3200.0    Ford  Focus  1989\n",
      "1     E432XX77RUS       1   6500.0  Toyota  Camry  1995\n",
      "2     7184TT36RUS       1   2100.0    Ford  Focus  1984\n",
      "3    X582HE161RUS       2   2000.0    Ford  Focus  2015\n",
      "4    92918M178RUS       1   5700.0    Ford  Focus  2014\n",
      "..            ...     ...      ...     ...    ...   ...\n",
      "925   K307NA30RUS       2   7327.0    Audi    RS7  2015\n",
      "926  X007OB190RUS       1  10964.0     Kia    Rio  2009\n",
      "927  H729HO170RUS       1  11336.0     BMW     Z4  2019\n",
      "928   K961KC12RUS       2  25228.0     BMW     M3  2021\n",
      "929   B874EH45RUS       1  14490.0    Audi     Q5  2008\n",
      "\n",
      "[930 rows x 6 columns]\n",
      "        CarNumber  Refund    Fines    Make  Model  Year\n",
      "0    Y163O8161RUS       2   3200.0    Ford  Focus  1989\n",
      "1     E432XX77RUS       1   6500.0  Toyota  Camry  1995\n",
      "2     7184TT36RUS       1   2100.0    Ford  Focus  1984\n",
      "3    X582HE161RUS       2   2000.0    Ford  Focus  2015\n",
      "4    92918M178RUS       1   5700.0    Ford  Focus  2014\n",
      "..            ...     ...      ...     ...    ...   ...\n",
      "925   K307NA30RUS       2   7327.0    Audi    RS7  2015\n",
      "926  X007OB190RUS       1  10964.0     Kia    Rio  2009\n",
      "927  H729HO170RUS       1  11336.0     BMW     Z4  2019\n",
      "928   K961KC12RUS       2  25228.0     BMW     M3  2021\n",
      "929   B874EH45RUS       1  14490.0    Audi     Q5  2008\n",
      "\n",
      "[930 rows x 6 columns]\n",
      "        CarNumber  Refund    Fines    Make  Model  Year\n",
      "0    Y163O8161RUS       2   3200.0    Ford  Focus  1989\n",
      "1     E432XX77RUS       1   6500.0  Toyota  Camry  1995\n",
      "2     7184TT36RUS       1   2100.0    Ford  Focus  1984\n",
      "3    X582HE161RUS       2   2000.0    Ford  Focus  2015\n",
      "4    92918M178RUS       1   5700.0    Ford  Focus  2014\n",
      "..            ...     ...      ...     ...    ...   ...\n",
      "925   K307NA30RUS       2   7327.0    Audi    RS7  2015\n",
      "926  X007OB190RUS       1  10964.0     Kia    Rio  2009\n",
      "927  H729HO170RUS       1  11336.0     BMW     Z4  2019\n",
      "928   K961KC12RUS       2  25228.0     BMW     M3  2021\n",
      "929   B874EH45RUS       1  14490.0    Audi     Q5  2008\n",
      "\n",
      "[930 rows x 6 columns]\n",
      "        CarNumber  Refund    Fines    Make  Model  Year\n",
      "0    Y163O8161RUS       2   3200.0    Ford  Focus  1989\n",
      "1     E432XX77RUS       1   6500.0  Toyota  Camry  1995\n",
      "2     7184TT36RUS       1   2100.0    Ford  Focus  1984\n",
      "3    X582HE161RUS       2   2000.0    Ford  Focus  2015\n",
      "4    92918M178RUS       1   5700.0    Ford  Focus  2014\n",
      "..            ...     ...      ...     ...    ...   ...\n",
      "925   K307NA30RUS       2   7327.0    Audi    RS7  2015\n",
      "926  X007OB190RUS       1  10964.0     Kia    Rio  2009\n",
      "927  H729HO170RUS       1  11336.0     BMW     Z4  2019\n",
      "928   K961KC12RUS       2  25228.0     BMW     M3  2021\n",
      "929   B874EH45RUS       1  14490.0    Audi     Q5  2008\n",
      "\n",
      "[930 rows x 6 columns]\n",
      "        CarNumber  Refund    Fines    Make  Model  Year\n",
      "0    Y163O8161RUS       2   3200.0    Ford  Focus  1989\n",
      "1     E432XX77RUS       1   6500.0  Toyota  Camry  1995\n",
      "2     7184TT36RUS       1   2100.0    Ford  Focus  1984\n",
      "3    X582HE161RUS       2   2000.0    Ford  Focus  2015\n",
      "4    92918M178RUS       1   5700.0    Ford  Focus  2014\n",
      "..            ...     ...      ...     ...    ...   ...\n",
      "925   K307NA30RUS       2   7327.0    Audi    RS7  2015\n",
      "926  X007OB190RUS       1  10964.0     Kia    Rio  2009\n",
      "927  H729HO170RUS       1  11336.0     BMW     Z4  2019\n",
      "928   K961KC12RUS       2  25228.0     BMW     M3  2021\n",
      "929   B874EH45RUS       1  14490.0    Audi     Q5  2008\n",
      "\n",
      "[930 rows x 6 columns]\n",
      "        CarNumber  Refund    Fines    Make  Model  Year\n",
      "0    Y163O8161RUS       2   3200.0    Ford  Focus  1989\n",
      "1     E432XX77RUS       1   6500.0  Toyota  Camry  1995\n",
      "2     7184TT36RUS       1   2100.0    Ford  Focus  1984\n",
      "3    X582HE161RUS       2   2000.0    Ford  Focus  2015\n",
      "4    92918M178RUS       1   5700.0    Ford  Focus  2014\n",
      "..            ...     ...      ...     ...    ...   ...\n",
      "925   K307NA30RUS       2   7327.0    Audi    RS7  2015\n",
      "926  X007OB190RUS       1  10964.0     Kia    Rio  2009\n",
      "927  H729HO170RUS       1  11336.0     BMW     Z4  2019\n",
      "928   K961KC12RUS       2  25228.0     BMW     M3  2021\n",
      "929   B874EH45RUS       1  14490.0    Audi     Q5  2008\n",
      "\n",
      "[930 rows x 6 columns]\n",
      "        CarNumber  Refund    Fines    Make  Model  Year\n",
      "0    Y163O8161RUS       2   3200.0    Ford  Focus  1989\n",
      "1     E432XX77RUS       1   6500.0  Toyota  Camry  1995\n",
      "2     7184TT36RUS       1   2100.0    Ford  Focus  1984\n",
      "3    X582HE161RUS       2   2000.0    Ford  Focus  2015\n",
      "4    92918M178RUS       1   5700.0    Ford  Focus  2014\n",
      "..            ...     ...      ...     ...    ...   ...\n",
      "925   K307NA30RUS       2   7327.0    Audi    RS7  2015\n",
      "926  X007OB190RUS       1  10964.0     Kia    Rio  2009\n",
      "927  H729HO170RUS       1  11336.0     BMW     Z4  2019\n",
      "928   K961KC12RUS       2  25228.0     BMW     M3  2021\n",
      "929   B874EH45RUS       1  14490.0    Audi     Q5  2008\n",
      "\n",
      "[930 rows x 6 columns]\n",
      "654 ms ± 55.8 ms per loop (mean ± std. dev. of 7 runs, 1 loop each)\n"
     ]
    }
   ],
   "source": [
    "%%timeit\n",
    "\n",
    "def calculated_iterrows(df):\n",
    "    # new_column = []\n",
    "    for i, j in df.iterrows():\n",
    "        j['calc_data'] = j['Fines'] / j['Refund'] * j['Year']\n",
    "        # new_column.append(calc_data)\n",
    "    return df\n",
    "\n",
    "# fines_copy['calc_data'] = calculated_iterrows(fines_copy)\n",
    "print(calculated_iterrows(fines.copy()))"
   ],
   "metadata": {
    "collapsed": false,
    "pycharm": {
     "name": "#%%\n"
    }
   }
  },
  {
   "cell_type": "code",
   "execution_count": 23,
   "outputs": [
    {
     "data": {
      "text/plain": "        CarNumber  Refund    Fines    Make  Model  Year\n0    Y163O8161RUS       2   3200.0    Ford  Focus  1989\n1     E432XX77RUS       1   6500.0  Toyota  Camry  1995\n2     7184TT36RUS       1   2100.0    Ford  Focus  1984\n3    X582HE161RUS       2   2000.0    Ford  Focus  2015\n4    92918M178RUS       1   5700.0    Ford  Focus  2014\n..            ...     ...      ...     ...    ...   ...\n925   K307NA30RUS       2   7327.0    Audi    RS7  2015\n926  X007OB190RUS       1  10964.0     Kia    Rio  2009\n927  H729HO170RUS       1  11336.0     BMW     Z4  2019\n928   K961KC12RUS       2  25228.0     BMW     M3  2021\n929   B874EH45RUS       1  14490.0    Audi     Q5  2008\n\n[930 rows x 6 columns]",
      "text/html": "<div>\n<style scoped>\n    .dataframe tbody tr th:only-of-type {\n        vertical-align: middle;\n    }\n\n    .dataframe tbody tr th {\n        vertical-align: top;\n    }\n\n    .dataframe thead th {\n        text-align: right;\n    }\n</style>\n<table border=\"1\" class=\"dataframe\">\n  <thead>\n    <tr style=\"text-align: right;\">\n      <th></th>\n      <th>CarNumber</th>\n      <th>Refund</th>\n      <th>Fines</th>\n      <th>Make</th>\n      <th>Model</th>\n      <th>Year</th>\n    </tr>\n  </thead>\n  <tbody>\n    <tr>\n      <th>0</th>\n      <td>Y163O8161RUS</td>\n      <td>2</td>\n      <td>3200.0</td>\n      <td>Ford</td>\n      <td>Focus</td>\n      <td>1989</td>\n    </tr>\n    <tr>\n      <th>1</th>\n      <td>E432XX77RUS</td>\n      <td>1</td>\n      <td>6500.0</td>\n      <td>Toyota</td>\n      <td>Camry</td>\n      <td>1995</td>\n    </tr>\n    <tr>\n      <th>2</th>\n      <td>7184TT36RUS</td>\n      <td>1</td>\n      <td>2100.0</td>\n      <td>Ford</td>\n      <td>Focus</td>\n      <td>1984</td>\n    </tr>\n    <tr>\n      <th>3</th>\n      <td>X582HE161RUS</td>\n      <td>2</td>\n      <td>2000.0</td>\n      <td>Ford</td>\n      <td>Focus</td>\n      <td>2015</td>\n    </tr>\n    <tr>\n      <th>4</th>\n      <td>92918M178RUS</td>\n      <td>1</td>\n      <td>5700.0</td>\n      <td>Ford</td>\n      <td>Focus</td>\n      <td>2014</td>\n    </tr>\n    <tr>\n      <th>...</th>\n      <td>...</td>\n      <td>...</td>\n      <td>...</td>\n      <td>...</td>\n      <td>...</td>\n      <td>...</td>\n    </tr>\n    <tr>\n      <th>925</th>\n      <td>K307NA30RUS</td>\n      <td>2</td>\n      <td>7327.0</td>\n      <td>Audi</td>\n      <td>RS7</td>\n      <td>2015</td>\n    </tr>\n    <tr>\n      <th>926</th>\n      <td>X007OB190RUS</td>\n      <td>1</td>\n      <td>10964.0</td>\n      <td>Kia</td>\n      <td>Rio</td>\n      <td>2009</td>\n    </tr>\n    <tr>\n      <th>927</th>\n      <td>H729HO170RUS</td>\n      <td>1</td>\n      <td>11336.0</td>\n      <td>BMW</td>\n      <td>Z4</td>\n      <td>2019</td>\n    </tr>\n    <tr>\n      <th>928</th>\n      <td>K961KC12RUS</td>\n      <td>2</td>\n      <td>25228.0</td>\n      <td>BMW</td>\n      <td>M3</td>\n      <td>2021</td>\n    </tr>\n    <tr>\n      <th>929</th>\n      <td>B874EH45RUS</td>\n      <td>1</td>\n      <td>14490.0</td>\n      <td>Audi</td>\n      <td>Q5</td>\n      <td>2008</td>\n    </tr>\n  </tbody>\n</table>\n<p>930 rows × 6 columns</p>\n</div>"
     },
     "execution_count": 23,
     "metadata": {},
     "output_type": "execute_result"
    }
   ],
   "source": [
    "fines"
   ],
   "metadata": {
    "collapsed": false,
    "pycharm": {
     "name": "#%%\n"
    }
   }
  },
  {
   "cell_type": "code",
   "execution_count": null,
   "outputs": [],
   "source": [],
   "metadata": {
    "collapsed": false,
    "pycharm": {
     "name": "#%%\n"
    }
   }
  }
 ],
 "metadata": {
  "kernelspec": {
   "display_name": "Python 3",
   "language": "python",
   "name": "python3"
  },
  "language_info": {
   "codemirror_mode": {
    "name": "ipython",
    "version": 2
   },
   "file_extension": ".py",
   "mimetype": "text/x-python",
   "name": "python",
   "nbconvert_exporter": "python",
   "pygments_lexer": "ipython2",
   "version": "2.7.6"
  }
 },
 "nbformat": 4,
 "nbformat_minor": 0
}