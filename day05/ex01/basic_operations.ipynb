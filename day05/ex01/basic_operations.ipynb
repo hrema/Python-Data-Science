{
 "cells": [
  {
   "cell_type": "code",
   "execution_count": 54,
   "source": [
    "import pandas as pd"
   ],
   "outputs": [],
   "metadata": {}
  },
  {
   "cell_type": "markdown",
   "source": [
    "## create a dataframe views with two columns"
   ],
   "metadata": {}
  },
  {
   "cell_type": "code",
   "execution_count": 6,
   "source": [
    "df = pd.read_csv(\n",
    "\t'../data/feed-views.log',\n",
    "\tsep='\\t',\n",
    "\theader=None)"
   ],
   "outputs": [],
   "metadata": {}
  },
  {
   "cell_type": "code",
   "execution_count": 7,
   "source": [
    "df.rename(columns={0: 'datetime', 1: 'user'}, inplace=True)"
   ],
   "outputs": [],
   "metadata": {}
  },
  {
   "cell_type": "code",
   "execution_count": 8,
   "source": [
    "df['datetime'] = pd.to_datetime(df['datetime'])"
   ],
   "outputs": [],
   "metadata": {}
  },
  {
   "cell_type": "code",
   "execution_count": 9,
   "source": [
    "dti = pd.DatetimeIndex(df['datetime'])\n",
    "df['year'] = dti.year\n",
    "df['month'] = dti.month\n",
    "df['day'] = dti.day\n",
    "df['hour'] = dti.hour\n",
    "df['minute'] = dti.minute\n",
    "df['second'] = dti.second"
   ],
   "outputs": [],
   "metadata": {}
  },
  {
   "cell_type": "markdown",
   "source": [
    "## Result"
   ],
   "metadata": {}
  },
  {
   "cell_type": "code",
   "execution_count": 10,
   "source": [
    "# df"
   ],
   "outputs": [],
   "metadata": {}
  },
  {
   "cell_type": "markdown",
   "source": [
    "## create the new column daytime"
   ],
   "metadata": {}
  },
  {
   "cell_type": "code",
   "execution_count": 11,
   "source": [
    "bins = [0, 4, 7, 11, 17, 20, 24]\n",
    "labels = ['night', 'early morning', 'morning', 'afternoon', 'early evening', 'evening']\n",
    "df['daytime'] = pd.cut(df['hour'], bins, right=False, labels=labels)"
   ],
   "outputs": [],
   "metadata": {}
  },
  {
   "cell_type": "code",
   "execution_count": 12,
   "source": [
    "df.set_index('user', inplace=True)"
   ],
   "outputs": [],
   "metadata": {}
  },
  {
   "cell_type": "markdown",
   "source": [
    "## Result"
   ],
   "metadata": {}
  },
  {
   "cell_type": "code",
   "execution_count": 13,
   "source": [
    "# df"
   ],
   "outputs": [],
   "metadata": {}
  },
  {
   "cell_type": "markdown",
   "source": [
    "## calculate the number of elements in your dataframe"
   ],
   "metadata": {}
  },
  {
   "cell_type": "code",
   "execution_count": 14,
   "source": [
    "df.count()"
   ],
   "outputs": [
    {
     "data": {
      "text/plain": "datetime    1076\nyear        1076\nmonth       1076\nday         1076\nhour        1076\nminute      1076\nsecond      1076\ndaytime     1076\ndtype: int64"
     },
     "execution_count": 14,
     "metadata": {},
     "output_type": "execute_result"
    }
   ],
   "metadata": {}
  },
  {
   "cell_type": "code",
   "execution_count": 15,
   "source": [
    "df['daytime'].value_counts()"
   ],
   "outputs": [
    {
     "data": {
      "text/plain": "evening          509\nafternoon        252\nearly evening    145\nnight            129\nmorning           36\nearly morning      5\nName: daytime, dtype: int64"
     },
     "execution_count": 15,
     "metadata": {},
     "output_type": "execute_result"
    }
   ],
   "metadata": {}
  },
  {
   "cell_type": "markdown",
   "source": [
    "## sort values in your dataframe by hour, minute, and second in ascending order"
   ],
   "metadata": {}
  },
  {
   "cell_type": "code",
   "execution_count": 16,
   "source": [
    "df.sort_values(by=['hour', 'minute', 'second'], inplace=True)"
   ],
   "outputs": [],
   "metadata": {}
  },
  {
   "cell_type": "markdown",
   "source": [
    "## Result"
   ],
   "metadata": {}
  },
  {
   "cell_type": "code",
   "execution_count": 17,
   "source": [
    "# df"
   ],
   "outputs": [],
   "metadata": {}
  },
  {
   "cell_type": "markdown",
   "source": [
    "## calculate the maximum of hour for the rows where the time of day is night"
   ],
   "metadata": {}
  },
  {
   "cell_type": "code",
   "execution_count": 18,
   "source": [
    "max_evening = df[df['daytime'] == 'evening']['hour'].max()\n",
    "print(max_evening)"
   ],
   "outputs": [
    {
     "name": "stdout",
     "output_type": "stream",
     "text": [
      "23\n"
     ]
    }
   ],
   "metadata": {}
  },
  {
   "cell_type": "code",
   "execution_count": 19,
   "source": [
    "min_morning = df[df['daytime'] == 'morning']['hour'].min()\n",
    "print(min_morning)"
   ],
   "outputs": [
    {
     "name": "stdout",
     "output_type": "stream",
     "text": [
      "8\n"
     ]
    }
   ],
   "metadata": {}
  },
  {
   "cell_type": "code",
   "execution_count": 20,
   "source": [
    "df[df['hour'] == max_evening].index[0]"
   ],
   "outputs": [
    {
     "data": {
      "text/plain": "'ekaterina'"
     },
     "execution_count": 20,
     "metadata": {},
     "output_type": "execute_result"
    }
   ],
   "metadata": {}
  },
  {
   "cell_type": "code",
   "execution_count": 21,
   "source": [
    "df[df['hour'] == min_morning].index[0]"
   ],
   "outputs": [
    {
     "data": {
      "text/plain": "'alexander'"
     },
     "execution_count": 21,
     "metadata": {},
     "output_type": "execute_result"
    }
   ],
   "metadata": {}
  },
  {
   "cell_type": "code",
   "execution_count": 22,
   "source": [
    "df['hour'].mode()"
   ],
   "outputs": [
    {
     "data": {
      "text/plain": "0    22\ndtype: int64"
     },
     "execution_count": 22,
     "metadata": {},
     "output_type": "execute_result"
    }
   ],
   "metadata": {}
  },
  {
   "cell_type": "code",
   "execution_count": 23,
   "source": [
    "df['daytime'].mode()"
   ],
   "outputs": [
    {
     "data": {
      "text/plain": "0    evening\nName: daytime, dtype: category\nCategories (6, object): ['night' < 'early morning' < 'morning' < 'afternoon' < 'early evening' < 'evening']"
     },
     "execution_count": 23,
     "metadata": {},
     "output_type": "execute_result"
    }
   ],
   "metadata": {}
  },
  {
   "cell_type": "markdown",
   "source": [
    "## show the 3 earliest hours in the morning and the corresponding usernames and the 3 latest hours and the usernames using nsmallest() and nlargest()"
   ],
   "metadata": {
    "pycharm": {
     "name": "#%% md\n"
    }
   }
  },
  {
   "cell_type": "code",
   "execution_count": 37,
   "outputs": [],
   "source": [
    "morning = df[df['daytime'] == 'morning']"
   ],
   "metadata": {
    "collapsed": false,
    "pycharm": {
     "name": "#%%\n"
    }
   }
  },
  {
   "cell_type": "code",
   "execution_count": 38,
   "outputs": [
    {
     "name": "stdout",
     "output_type": "stream",
     "text": [
      "nsmallest\n"
     ]
    },
    {
     "data": {
      "text/plain": "                            datetime  year  month  day  hour  minute  second  \\\nuser                                                                           \nalexander 2020-05-15 08:16:03.918402  2020      5   15     8      16       3   \nalexander 2020-05-15 08:35:01.471463  2020      5   15     8      35       1   \nalexander 2020-05-15 09:02:24.999438  2020      5   15     9       2      24   \n\n           daytime  \nuser                \nalexander  morning  \nalexander  morning  \nalexander  morning  ",
      "text/html": "<div>\n<style scoped>\n    .dataframe tbody tr th:only-of-type {\n        vertical-align: middle;\n    }\n\n    .dataframe tbody tr th {\n        vertical-align: top;\n    }\n\n    .dataframe thead th {\n        text-align: right;\n    }\n</style>\n<table border=\"1\" class=\"dataframe\">\n  <thead>\n    <tr style=\"text-align: right;\">\n      <th></th>\n      <th>datetime</th>\n      <th>year</th>\n      <th>month</th>\n      <th>day</th>\n      <th>hour</th>\n      <th>minute</th>\n      <th>second</th>\n      <th>daytime</th>\n    </tr>\n    <tr>\n      <th>user</th>\n      <th></th>\n      <th></th>\n      <th></th>\n      <th></th>\n      <th></th>\n      <th></th>\n      <th></th>\n      <th></th>\n    </tr>\n  </thead>\n  <tbody>\n    <tr>\n      <th>alexander</th>\n      <td>2020-05-15 08:16:03.918402</td>\n      <td>2020</td>\n      <td>5</td>\n      <td>15</td>\n      <td>8</td>\n      <td>16</td>\n      <td>3</td>\n      <td>morning</td>\n    </tr>\n    <tr>\n      <th>alexander</th>\n      <td>2020-05-15 08:35:01.471463</td>\n      <td>2020</td>\n      <td>5</td>\n      <td>15</td>\n      <td>8</td>\n      <td>35</td>\n      <td>1</td>\n      <td>morning</td>\n    </tr>\n    <tr>\n      <th>alexander</th>\n      <td>2020-05-15 09:02:24.999438</td>\n      <td>2020</td>\n      <td>5</td>\n      <td>15</td>\n      <td>9</td>\n      <td>2</td>\n      <td>24</td>\n      <td>morning</td>\n    </tr>\n  </tbody>\n</table>\n</div>"
     },
     "execution_count": 38,
     "metadata": {},
     "output_type": "execute_result"
    }
   ],
   "source": [
    "print('nsmallest')\n",
    "morning.nsmallest(3, 'hour')"
   ],
   "metadata": {
    "collapsed": false,
    "pycharm": {
     "name": "#%%\n"
    }
   }
  },
  {
   "cell_type": "code",
   "execution_count": 39,
   "outputs": [
    {
     "name": "stdout",
     "output_type": "stream",
     "text": [
      "nlargest\n"
     ]
    },
    {
     "data": {
      "text/plain": "                             datetime  year  month  day  hour  minute  second  \\\nuser                                                                            \nkonstantin 2020-05-16 10:02:08.925840  2020      5   16    10       2       8   \nmaxim      2020-05-14 10:08:04.832361  2020      5   14    10       8       4   \nmaxim      2020-05-14 10:08:05.726956  2020      5   14    10       8       5   \n\n            daytime  \nuser                 \nkonstantin  morning  \nmaxim       morning  \nmaxim       morning  ",
      "text/html": "<div>\n<style scoped>\n    .dataframe tbody tr th:only-of-type {\n        vertical-align: middle;\n    }\n\n    .dataframe tbody tr th {\n        vertical-align: top;\n    }\n\n    .dataframe thead th {\n        text-align: right;\n    }\n</style>\n<table border=\"1\" class=\"dataframe\">\n  <thead>\n    <tr style=\"text-align: right;\">\n      <th></th>\n      <th>datetime</th>\n      <th>year</th>\n      <th>month</th>\n      <th>day</th>\n      <th>hour</th>\n      <th>minute</th>\n      <th>second</th>\n      <th>daytime</th>\n    </tr>\n    <tr>\n      <th>user</th>\n      <th></th>\n      <th></th>\n      <th></th>\n      <th></th>\n      <th></th>\n      <th></th>\n      <th></th>\n      <th></th>\n    </tr>\n  </thead>\n  <tbody>\n    <tr>\n      <th>konstantin</th>\n      <td>2020-05-16 10:02:08.925840</td>\n      <td>2020</td>\n      <td>5</td>\n      <td>16</td>\n      <td>10</td>\n      <td>2</td>\n      <td>8</td>\n      <td>morning</td>\n    </tr>\n    <tr>\n      <th>maxim</th>\n      <td>2020-05-14 10:08:04.832361</td>\n      <td>2020</td>\n      <td>5</td>\n      <td>14</td>\n      <td>10</td>\n      <td>8</td>\n      <td>4</td>\n      <td>morning</td>\n    </tr>\n    <tr>\n      <th>maxim</th>\n      <td>2020-05-14 10:08:05.726956</td>\n      <td>2020</td>\n      <td>5</td>\n      <td>14</td>\n      <td>10</td>\n      <td>8</td>\n      <td>5</td>\n      <td>morning</td>\n    </tr>\n  </tbody>\n</table>\n</div>"
     },
     "execution_count": 39,
     "metadata": {},
     "output_type": "execute_result"
    }
   ],
   "source": [
    "print('nlargest')\n",
    "morning.nlargest(3, 'hour')"
   ],
   "metadata": {
    "collapsed": false,
    "pycharm": {
     "name": "#%%\n"
    }
   }
  },
  {
   "cell_type": "markdown",
   "source": [
    "## use the method describe() to get the basic statistics for the columns"
   ],
   "metadata": {
    "collapsed": false,
    "pycharm": {
     "name": "#%% md\n"
    }
   }
  },
  {
   "cell_type": "code",
   "execution_count": 53,
   "outputs": [
    {
     "name": "stdout",
     "output_type": "stream",
     "text": [
      "9.0\n"
     ]
    }
   ],
   "source": [
    "describe = df.describe()['hour']\n",
    "iqr = describe['75%'] - describe['25%']\n",
    "print(iqr)"
   ],
   "metadata": {
    "collapsed": false,
    "pycharm": {
     "name": "#%%\n"
    }
   }
  }
 ],
 "metadata": {
  "orig_nbformat": 4,
  "language_info": {
   "name": "python"
  },
  "kernelspec": {
   "name": "pycharm-9b65ca9c",
   "language": "python",
   "display_name": "PyCharm (Python-Data-Science)"
  }
 },
 "nbformat": 4,
 "nbformat_minor": 2
}