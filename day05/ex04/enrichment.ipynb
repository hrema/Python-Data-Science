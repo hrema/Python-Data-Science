{
 "cells": [
  {
   "cell_type": "code",
   "execution_count": 26,
   "metadata": {
    "collapsed": true
   },
   "outputs": [],
   "source": [
    "import pandas as pd\n",
    "import numpy as np"
   ]
  },
  {
   "cell_type": "code",
   "execution_count": 27,
   "outputs": [],
   "source": [
    "pd.options.display.float_format = '{:.2f}'.format"
   ],
   "metadata": {
    "collapsed": false,
    "pycharm": {
     "name": "#%%\n"
    }
   }
  },
  {
   "cell_type": "markdown",
   "source": [
    "## read the JSON file that you saved in ex02"
   ],
   "metadata": {
    "collapsed": false,
    "pycharm": {
     "name": "#%% md\n"
    }
   }
  },
  {
   "cell_type": "code",
   "execution_count": 28,
   "outputs": [],
   "source": [
    "df = pd.read_json('../data/auto.json', orient='records')"
   ],
   "metadata": {
    "collapsed": false,
    "pycharm": {
     "name": "#%%\n"
    }
   }
  },
  {
   "cell_type": "markdown",
   "source": [
    "## Result"
   ],
   "metadata": {
    "collapsed": false,
    "pycharm": {
     "name": "#%% md\n"
    }
   }
  },
  {
   "cell_type": "code",
   "execution_count": 29,
   "outputs": [],
   "source": [
    "# df"
   ],
   "metadata": {
    "collapsed": false,
    "pycharm": {
     "name": "#%%\n"
    }
   }
  },
  {
   "cell_type": "markdown",
   "source": [
    "## enrich the dataframe using a sample from that dataframe"
   ],
   "metadata": {
    "collapsed": false,
    "pycharm": {
     "name": "#%% md\n"
    }
   }
  },
  {
   "cell_type": "code",
   "execution_count": 30,
   "outputs": [],
   "source": [
    "df_sample = df.sample(n=200, random_state=21)"
   ],
   "metadata": {
    "collapsed": false,
    "pycharm": {
     "name": "#%%\n"
    }
   }
  },
  {
   "cell_type": "code",
   "execution_count": 31,
   "outputs": [],
   "source": [
    "concat_rows = pd.concat([df, df_sample], ignore_index=True)"
   ],
   "metadata": {
    "collapsed": false,
    "pycharm": {
     "name": "#%%\n"
    }
   }
  },
  {
   "cell_type": "markdown",
   "source": [
    "## Result"
   ],
   "metadata": {
    "collapsed": false,
    "pycharm": {
     "name": "#%% md\n"
    }
   }
  },
  {
   "cell_type": "code",
   "execution_count": 32,
   "outputs": [],
   "source": [
    "# concat_rows"
   ],
   "metadata": {
    "collapsed": false,
    "pycharm": {
     "name": "#%%\n"
    }
   }
  },
  {
   "cell_type": "markdown",
   "source": [
    "## enrich the dataframe concat_rows by a new column with the data generated"
   ],
   "metadata": {
    "collapsed": false,
    "pycharm": {
     "name": "#%% md\n"
    }
   }
  },
  {
   "cell_type": "code",
   "execution_count": 33,
   "outputs": [],
   "source": [
    "np.random.seed(21)"
   ],
   "metadata": {
    "collapsed": false,
    "pycharm": {
     "name": "#%%\n"
    }
   }
  },
  {
   "cell_type": "code",
   "execution_count": 34,
   "outputs": [],
   "source": [
    "year = pd.Series(data=[np.random.randint(1980, 2020) for _ in range(925)], name='Year')"
   ],
   "metadata": {
    "collapsed": false,
    "pycharm": {
     "name": "#%%\n"
    }
   }
  },
  {
   "cell_type": "code",
   "execution_count": 35,
   "outputs": [],
   "source": [
    "fines = pd.concat([concat_rows, year], axis='columns')"
   ],
   "metadata": {
    "collapsed": false,
    "pycharm": {
     "name": "#%%\n"
    }
   }
  },
  {
   "cell_type": "markdown",
   "source": [
    "## Result"
   ],
   "metadata": {
    "collapsed": false,
    "pycharm": {
     "name": "#%% md\n"
    }
   }
  },
  {
   "cell_type": "code",
   "execution_count": 36,
   "outputs": [],
   "source": [
    "# fines"
   ],
   "metadata": {
    "collapsed": false,
    "pycharm": {
     "name": "#%%\n"
    }
   }
  },
  {
   "cell_type": "markdown",
   "source": [
    "## enrich the dataframe with the data from another dataframe"
   ],
   "metadata": {
    "collapsed": false,
    "pycharm": {
     "name": "#%% md\n"
    }
   }
  },
  {
   "cell_type": "code",
   "execution_count": 37,
   "outputs": [],
   "source": [
    "df_surnames = pd.read_json('../data/surname.json')\n",
    "df_surnames.set_axis(df_surnames.iloc[0], axis='columns', inplace=True)\n",
    "df_surnames = df_surnames.drop(0).reset_index(drop=True)"
   ],
   "metadata": {
    "collapsed": false,
    "pycharm": {
     "name": "#%%\n"
    }
   }
  },
  {
   "cell_type": "code",
   "execution_count": 38,
   "outputs": [],
   "source": [
    "# df_surnames"
   ],
   "metadata": {
    "collapsed": false,
    "pycharm": {
     "name": "#%%\n"
    }
   }
  },
  {
   "cell_type": "code",
   "execution_count": 42,
   "outputs": [],
   "source": [
    "n = fines['CarNumber'].unique().shape[0]\n",
    "series_surnames_name = df_surnames['NAME']\n",
    "series_surnames_name.rename('SURNAME', inplace=True)\n",
    "surnames_sample = series_surnames_name.sample(n=n, random_state=21, replace=True)\n",
    "surnames_sample.reset_index(drop=True, inplace=True)"
   ],
   "metadata": {
    "collapsed": false,
    "pycharm": {
     "name": "#%%\n"
    }
   }
  },
  {
   "cell_type": "code",
   "execution_count": 43,
   "outputs": [
    {
     "data": {
      "text/plain": "0      RICHARDSON\n1            ROSS\n2          MORGAN\n3          BAILEY\n4           LOPEZ\n          ...    \n526      CAMPBELL\n527          HALL\n528         BAKER\n529          DIAZ\n530        MORGAN\nName: SURNAME, Length: 531, dtype: object"
     },
     "execution_count": 43,
     "metadata": {},
     "output_type": "execute_result"
    }
   ],
   "source": [
    "# surnames_sample"
   ],
   "metadata": {
    "collapsed": false,
    "pycharm": {
     "name": "#%%\n"
    }
   }
  },
  {
   "cell_type": "code",
   "execution_count": 44,
   "outputs": [],
   "source": [
    "owners = pd.DataFrame(data=surnames_sample)\n",
    "owners['CarNumber'] = df['CarNumber'].unique()"
   ],
   "metadata": {
    "collapsed": false,
    "pycharm": {
     "name": "#%%\n"
    }
   }
  },
  {
   "cell_type": "code",
   "execution_count": 45,
   "outputs": [
    {
     "data": {
      "text/plain": "        SURNAME     CarNumber\n0    RICHARDSON  Y163O8161RUS\n1          ROSS   E432XX77RUS\n2        MORGAN   7184TT36RUS\n3        BAILEY  X582HE161RUS\n4         LOPEZ  92918M178RUS\n..          ...           ...\n526    CAMPBELL  O136HO197RUS\n527        HALL  O22097197RUS\n528       BAKER  M0309X197RUS\n529        DIAZ  O673E8197RUS\n530      MORGAN  8610T8154RUS\n\n[531 rows x 2 columns]",
      "text/html": "<div>\n<style scoped>\n    .dataframe tbody tr th:only-of-type {\n        vertical-align: middle;\n    }\n\n    .dataframe tbody tr th {\n        vertical-align: top;\n    }\n\n    .dataframe thead th {\n        text-align: right;\n    }\n</style>\n<table border=\"1\" class=\"dataframe\">\n  <thead>\n    <tr style=\"text-align: right;\">\n      <th></th>\n      <th>SURNAME</th>\n      <th>CarNumber</th>\n    </tr>\n  </thead>\n  <tbody>\n    <tr>\n      <th>0</th>\n      <td>RICHARDSON</td>\n      <td>Y163O8161RUS</td>\n    </tr>\n    <tr>\n      <th>1</th>\n      <td>ROSS</td>\n      <td>E432XX77RUS</td>\n    </tr>\n    <tr>\n      <th>2</th>\n      <td>MORGAN</td>\n      <td>7184TT36RUS</td>\n    </tr>\n    <tr>\n      <th>3</th>\n      <td>BAILEY</td>\n      <td>X582HE161RUS</td>\n    </tr>\n    <tr>\n      <th>4</th>\n      <td>LOPEZ</td>\n      <td>92918M178RUS</td>\n    </tr>\n    <tr>\n      <th>...</th>\n      <td>...</td>\n      <td>...</td>\n    </tr>\n    <tr>\n      <th>526</th>\n      <td>CAMPBELL</td>\n      <td>O136HO197RUS</td>\n    </tr>\n    <tr>\n      <th>527</th>\n      <td>HALL</td>\n      <td>O22097197RUS</td>\n    </tr>\n    <tr>\n      <th>528</th>\n      <td>BAKER</td>\n      <td>M0309X197RUS</td>\n    </tr>\n    <tr>\n      <th>529</th>\n      <td>DIAZ</td>\n      <td>O673E8197RUS</td>\n    </tr>\n    <tr>\n      <th>530</th>\n      <td>MORGAN</td>\n      <td>8610T8154RUS</td>\n    </tr>\n  </tbody>\n</table>\n<p>531 rows × 2 columns</p>\n</div>"
     },
     "execution_count": 45,
     "metadata": {},
     "output_type": "execute_result"
    }
   ],
   "source": [
    "# owners"
   ],
   "metadata": {
    "collapsed": false,
    "pycharm": {
     "name": "#%%\n"
    }
   }
  },
  {
   "cell_type": "code",
   "execution_count": 46,
   "outputs": [],
   "source": [
    "np.random.seed(21)\n",
    "observations_fines = [\n",
    "    ['K307NA30RUS', np.random.randint(1, 3), np.random.randint(2000, 30000), 'Audi', 'RS7', 2015],\n",
    "    ['X007OB190RUS', np.random.randint(1, 3), np.random.randint(2000, 30000), 'Kia', 'Rio', 2009],\n",
    "    ['H729HO170RUS', np.random.randint(1, 3), np.random.randint(2000, 30000), 'BMW', 'Z4', 2019],\n",
    "    ['K961KC12RUS', np.random.randint(1, 3), np.random.randint(2000, 30000), 'BMW', 'M3', 2021],\n",
    "    ['B874EH45RUS', np.random.randint(1, 3), np.random.randint(2000, 30000), 'Audi', 'Q5', 2008],\n",
    "]\n",
    "\n",
    "df_observations_fines = pd.DataFrame(observations_fines, columns=fines.columns)"
   ],
   "metadata": {
    "collapsed": false,
    "pycharm": {
     "name": "#%%\n"
    }
   }
  },
  {
   "cell_type": "code",
   "execution_count": 47,
   "outputs": [],
   "source": [
    "fines = fines.append(df_observations_fines, ignore_index=True)"
   ],
   "metadata": {
    "collapsed": false,
    "pycharm": {
     "name": "#%%\n"
    }
   }
  },
  {
   "cell_type": "code",
   "execution_count": 49,
   "outputs": [],
   "source": [
    "# fines"
   ],
   "metadata": {
    "collapsed": false,
    "pycharm": {
     "name": "#%%\n"
    }
   }
  },
  {
   "cell_type": "code",
   "execution_count": 50,
   "outputs": [],
   "source": [
    "owners.drop(range(owners.shape[0] - 20, owners.shape[0]), inplace=True)"
   ],
   "metadata": {
    "collapsed": false,
    "pycharm": {
     "name": "#%%\n"
    }
   }
  },
  {
   "cell_type": "code",
   "execution_count": 52,
   "outputs": [],
   "source": [
    "# owners"
   ],
   "metadata": {
    "collapsed": false,
    "pycharm": {
     "name": "#%%\n"
    }
   }
  },
  {
   "cell_type": "code",
   "execution_count": 53,
   "outputs": [],
   "source": [
    "np.random.seed(21)\n",
    "observations_owners = [\n",
    "    ['LEE', 'К325НС67RUS'],\n",
    "    ['REED', 'C727YP13RUS'],\n",
    "    ['CASTILLO', 'У917СО55RUS']\n",
    "]\n",
    "\n",
    "df_observations_owners = pd.DataFrame(observations_owners, columns=owners.columns)"
   ],
   "metadata": {
    "collapsed": false,
    "pycharm": {
     "name": "#%%\n"
    }
   }
  },
  {
   "cell_type": "code",
   "execution_count": 54,
   "outputs": [],
   "source": [
    "owners = owners.append(df_observations_owners, ignore_index=True)"
   ],
   "metadata": {
    "collapsed": false,
    "pycharm": {
     "name": "#%%\n"
    }
   }
  },
  {
   "cell_type": "code",
   "execution_count": 56,
   "outputs": [],
   "source": [
    "# owners"
   ],
   "metadata": {
    "collapsed": false,
    "pycharm": {
     "name": "#%%\n"
    }
   }
  },
  {
   "cell_type": "code",
   "execution_count": 57,
   "outputs": [],
   "source": [
    "# fines"
   ],
   "metadata": {
    "collapsed": false,
    "pycharm": {
     "name": "#%%\n"
    }
   }
  },
  {
   "cell_type": "code",
   "execution_count": 58,
   "outputs": [],
   "source": [
    "# owners"
   ],
   "metadata": {
    "collapsed": false,
    "pycharm": {
     "name": "#%%\n"
    }
   }
  },
  {
   "cell_type": "code",
   "execution_count": 59,
   "outputs": [
    {
     "data": {
      "text/plain": "        CarNumber  Refund    Fines    Make    Model  Year     SURNAME\n0    Y163O8161RUS       2  3200.00    Ford    Focus  1989  RICHARDSON\n1    Y163O8161RUS       2  1600.00    Ford    Focus  1980  RICHARDSON\n2     E432XX77RUS       1  6500.00  Toyota    Camry  1995        ROSS\n3     E432XX77RUS       2 13000.00  Toyota    Camry  2018        ROSS\n4     7184TT36RUS       1  2100.00    Ford    Focus  1984      MORGAN\n..            ...     ...      ...     ...      ...   ...         ...\n894  E41977152RUS       2  2400.00    Ford    Focus  1989       BAKER\n895  9464EX178RUS       2  2100.00    Ford    Focus  1988      MARTIN\n896  O50197197RUS       2  7800.00    Ford    Focus  1992      WRIGHT\n897  7608EE777RUS       1  4000.00   Skoda  Octavia  2000        HILL\n898  7608EE777RUS       1  4000.00   Skoda  Octavia  1991        HILL\n\n[899 rows x 7 columns]",
      "text/html": "<div>\n<style scoped>\n    .dataframe tbody tr th:only-of-type {\n        vertical-align: middle;\n    }\n\n    .dataframe tbody tr th {\n        vertical-align: top;\n    }\n\n    .dataframe thead th {\n        text-align: right;\n    }\n</style>\n<table border=\"1\" class=\"dataframe\">\n  <thead>\n    <tr style=\"text-align: right;\">\n      <th></th>\n      <th>CarNumber</th>\n      <th>Refund</th>\n      <th>Fines</th>\n      <th>Make</th>\n      <th>Model</th>\n      <th>Year</th>\n      <th>SURNAME</th>\n    </tr>\n  </thead>\n  <tbody>\n    <tr>\n      <th>0</th>\n      <td>Y163O8161RUS</td>\n      <td>2</td>\n      <td>3200.00</td>\n      <td>Ford</td>\n      <td>Focus</td>\n      <td>1989</td>\n      <td>RICHARDSON</td>\n    </tr>\n    <tr>\n      <th>1</th>\n      <td>Y163O8161RUS</td>\n      <td>2</td>\n      <td>1600.00</td>\n      <td>Ford</td>\n      <td>Focus</td>\n      <td>1980</td>\n      <td>RICHARDSON</td>\n    </tr>\n    <tr>\n      <th>2</th>\n      <td>E432XX77RUS</td>\n      <td>1</td>\n      <td>6500.00</td>\n      <td>Toyota</td>\n      <td>Camry</td>\n      <td>1995</td>\n      <td>ROSS</td>\n    </tr>\n    <tr>\n      <th>3</th>\n      <td>E432XX77RUS</td>\n      <td>2</td>\n      <td>13000.00</td>\n      <td>Toyota</td>\n      <td>Camry</td>\n      <td>2018</td>\n      <td>ROSS</td>\n    </tr>\n    <tr>\n      <th>4</th>\n      <td>7184TT36RUS</td>\n      <td>1</td>\n      <td>2100.00</td>\n      <td>Ford</td>\n      <td>Focus</td>\n      <td>1984</td>\n      <td>MORGAN</td>\n    </tr>\n    <tr>\n      <th>...</th>\n      <td>...</td>\n      <td>...</td>\n      <td>...</td>\n      <td>...</td>\n      <td>...</td>\n      <td>...</td>\n      <td>...</td>\n    </tr>\n    <tr>\n      <th>894</th>\n      <td>E41977152RUS</td>\n      <td>2</td>\n      <td>2400.00</td>\n      <td>Ford</td>\n      <td>Focus</td>\n      <td>1989</td>\n      <td>BAKER</td>\n    </tr>\n    <tr>\n      <th>895</th>\n      <td>9464EX178RUS</td>\n      <td>2</td>\n      <td>2100.00</td>\n      <td>Ford</td>\n      <td>Focus</td>\n      <td>1988</td>\n      <td>MARTIN</td>\n    </tr>\n    <tr>\n      <th>896</th>\n      <td>O50197197RUS</td>\n      <td>2</td>\n      <td>7800.00</td>\n      <td>Ford</td>\n      <td>Focus</td>\n      <td>1992</td>\n      <td>WRIGHT</td>\n    </tr>\n    <tr>\n      <th>897</th>\n      <td>7608EE777RUS</td>\n      <td>1</td>\n      <td>4000.00</td>\n      <td>Skoda</td>\n      <td>Octavia</td>\n      <td>2000</td>\n      <td>HILL</td>\n    </tr>\n    <tr>\n      <th>898</th>\n      <td>7608EE777RUS</td>\n      <td>1</td>\n      <td>4000.00</td>\n      <td>Skoda</td>\n      <td>Octavia</td>\n      <td>1991</td>\n      <td>HILL</td>\n    </tr>\n  </tbody>\n</table>\n<p>899 rows × 7 columns</p>\n</div>"
     },
     "execution_count": 59,
     "metadata": {},
     "output_type": "execute_result"
    }
   ],
   "source": [
    "fines.merge(owners, how='inner', on='CarNumber')"
   ],
   "metadata": {
    "collapsed": false,
    "pycharm": {
     "name": "#%%\n"
    }
   }
  },
  {
   "cell_type": "code",
   "execution_count": 60,
   "outputs": [
    {
     "data": {
      "text/plain": "        CarNumber  Refund    Fines    Make  Model    Year     SURNAME\n0    Y163O8161RUS    2.00  3200.00    Ford  Focus 1989.00  RICHARDSON\n1    Y163O8161RUS    2.00  1600.00    Ford  Focus 1980.00  RICHARDSON\n2     E432XX77RUS    1.00  6500.00  Toyota  Camry 1995.00        ROSS\n3     E432XX77RUS    2.00 13000.00  Toyota  Camry 2018.00        ROSS\n4     7184TT36RUS    1.00  2100.00    Ford  Focus 1984.00      MORGAN\n..            ...     ...      ...     ...    ...     ...         ...\n928   K961KC12RUS    2.00 25228.00     BMW     M3 2021.00         NaN\n929   B874EH45RUS    1.00 14490.00    Audi     Q5 2008.00         NaN\n930   К325НС67RUS     NaN      NaN     NaN    NaN     NaN         LEE\n931   C727YP13RUS     NaN      NaN     NaN    NaN     NaN        REED\n932   У917СО55RUS     NaN      NaN     NaN    NaN     NaN    CASTILLO\n\n[933 rows x 7 columns]",
      "text/html": "<div>\n<style scoped>\n    .dataframe tbody tr th:only-of-type {\n        vertical-align: middle;\n    }\n\n    .dataframe tbody tr th {\n        vertical-align: top;\n    }\n\n    .dataframe thead th {\n        text-align: right;\n    }\n</style>\n<table border=\"1\" class=\"dataframe\">\n  <thead>\n    <tr style=\"text-align: right;\">\n      <th></th>\n      <th>CarNumber</th>\n      <th>Refund</th>\n      <th>Fines</th>\n      <th>Make</th>\n      <th>Model</th>\n      <th>Year</th>\n      <th>SURNAME</th>\n    </tr>\n  </thead>\n  <tbody>\n    <tr>\n      <th>0</th>\n      <td>Y163O8161RUS</td>\n      <td>2.00</td>\n      <td>3200.00</td>\n      <td>Ford</td>\n      <td>Focus</td>\n      <td>1989.00</td>\n      <td>RICHARDSON</td>\n    </tr>\n    <tr>\n      <th>1</th>\n      <td>Y163O8161RUS</td>\n      <td>2.00</td>\n      <td>1600.00</td>\n      <td>Ford</td>\n      <td>Focus</td>\n      <td>1980.00</td>\n      <td>RICHARDSON</td>\n    </tr>\n    <tr>\n      <th>2</th>\n      <td>E432XX77RUS</td>\n      <td>1.00</td>\n      <td>6500.00</td>\n      <td>Toyota</td>\n      <td>Camry</td>\n      <td>1995.00</td>\n      <td>ROSS</td>\n    </tr>\n    <tr>\n      <th>3</th>\n      <td>E432XX77RUS</td>\n      <td>2.00</td>\n      <td>13000.00</td>\n      <td>Toyota</td>\n      <td>Camry</td>\n      <td>2018.00</td>\n      <td>ROSS</td>\n    </tr>\n    <tr>\n      <th>4</th>\n      <td>7184TT36RUS</td>\n      <td>1.00</td>\n      <td>2100.00</td>\n      <td>Ford</td>\n      <td>Focus</td>\n      <td>1984.00</td>\n      <td>MORGAN</td>\n    </tr>\n    <tr>\n      <th>...</th>\n      <td>...</td>\n      <td>...</td>\n      <td>...</td>\n      <td>...</td>\n      <td>...</td>\n      <td>...</td>\n      <td>...</td>\n    </tr>\n    <tr>\n      <th>928</th>\n      <td>K961KC12RUS</td>\n      <td>2.00</td>\n      <td>25228.00</td>\n      <td>BMW</td>\n      <td>M3</td>\n      <td>2021.00</td>\n      <td>NaN</td>\n    </tr>\n    <tr>\n      <th>929</th>\n      <td>B874EH45RUS</td>\n      <td>1.00</td>\n      <td>14490.00</td>\n      <td>Audi</td>\n      <td>Q5</td>\n      <td>2008.00</td>\n      <td>NaN</td>\n    </tr>\n    <tr>\n      <th>930</th>\n      <td>К325НС67RUS</td>\n      <td>NaN</td>\n      <td>NaN</td>\n      <td>NaN</td>\n      <td>NaN</td>\n      <td>NaN</td>\n      <td>LEE</td>\n    </tr>\n    <tr>\n      <th>931</th>\n      <td>C727YP13RUS</td>\n      <td>NaN</td>\n      <td>NaN</td>\n      <td>NaN</td>\n      <td>NaN</td>\n      <td>NaN</td>\n      <td>REED</td>\n    </tr>\n    <tr>\n      <th>932</th>\n      <td>У917СО55RUS</td>\n      <td>NaN</td>\n      <td>NaN</td>\n      <td>NaN</td>\n      <td>NaN</td>\n      <td>NaN</td>\n      <td>CASTILLO</td>\n    </tr>\n  </tbody>\n</table>\n<p>933 rows × 7 columns</p>\n</div>"
     },
     "execution_count": 60,
     "metadata": {},
     "output_type": "execute_result"
    }
   ],
   "source": [
    "fines.merge(owners, how='outer', on='CarNumber')"
   ],
   "metadata": {
    "collapsed": false,
    "pycharm": {
     "name": "#%%\n"
    }
   }
  },
  {
   "cell_type": "code",
   "execution_count": 61,
   "outputs": [
    {
     "data": {
      "text/plain": "        CarNumber  Refund    Fines    Make  Model  Year     SURNAME\n0    Y163O8161RUS       2  3200.00    Ford  Focus  1989  RICHARDSON\n1     E432XX77RUS       1  6500.00  Toyota  Camry  1995        ROSS\n2     7184TT36RUS       1  2100.00    Ford  Focus  1984      MORGAN\n3    X582HE161RUS       2  2000.00    Ford  Focus  2015      BAILEY\n4    92918M178RUS       1  5700.00    Ford  Focus  2014       LOPEZ\n..            ...     ...      ...     ...    ...   ...         ...\n925   K307NA30RUS       2  7327.00    Audi    RS7  2015         NaN\n926  X007OB190RUS       1 10964.00     Kia    Rio  2009         NaN\n927  H729HO170RUS       1 11336.00     BMW     Z4  2019         NaN\n928   K961KC12RUS       2 25228.00     BMW     M3  2021         NaN\n929   B874EH45RUS       1 14490.00    Audi     Q5  2008         NaN\n\n[930 rows x 7 columns]",
      "text/html": "<div>\n<style scoped>\n    .dataframe tbody tr th:only-of-type {\n        vertical-align: middle;\n    }\n\n    .dataframe tbody tr th {\n        vertical-align: top;\n    }\n\n    .dataframe thead th {\n        text-align: right;\n    }\n</style>\n<table border=\"1\" class=\"dataframe\">\n  <thead>\n    <tr style=\"text-align: right;\">\n      <th></th>\n      <th>CarNumber</th>\n      <th>Refund</th>\n      <th>Fines</th>\n      <th>Make</th>\n      <th>Model</th>\n      <th>Year</th>\n      <th>SURNAME</th>\n    </tr>\n  </thead>\n  <tbody>\n    <tr>\n      <th>0</th>\n      <td>Y163O8161RUS</td>\n      <td>2</td>\n      <td>3200.00</td>\n      <td>Ford</td>\n      <td>Focus</td>\n      <td>1989</td>\n      <td>RICHARDSON</td>\n    </tr>\n    <tr>\n      <th>1</th>\n      <td>E432XX77RUS</td>\n      <td>1</td>\n      <td>6500.00</td>\n      <td>Toyota</td>\n      <td>Camry</td>\n      <td>1995</td>\n      <td>ROSS</td>\n    </tr>\n    <tr>\n      <th>2</th>\n      <td>7184TT36RUS</td>\n      <td>1</td>\n      <td>2100.00</td>\n      <td>Ford</td>\n      <td>Focus</td>\n      <td>1984</td>\n      <td>MORGAN</td>\n    </tr>\n    <tr>\n      <th>3</th>\n      <td>X582HE161RUS</td>\n      <td>2</td>\n      <td>2000.00</td>\n      <td>Ford</td>\n      <td>Focus</td>\n      <td>2015</td>\n      <td>BAILEY</td>\n    </tr>\n    <tr>\n      <th>4</th>\n      <td>92918M178RUS</td>\n      <td>1</td>\n      <td>5700.00</td>\n      <td>Ford</td>\n      <td>Focus</td>\n      <td>2014</td>\n      <td>LOPEZ</td>\n    </tr>\n    <tr>\n      <th>...</th>\n      <td>...</td>\n      <td>...</td>\n      <td>...</td>\n      <td>...</td>\n      <td>...</td>\n      <td>...</td>\n      <td>...</td>\n    </tr>\n    <tr>\n      <th>925</th>\n      <td>K307NA30RUS</td>\n      <td>2</td>\n      <td>7327.00</td>\n      <td>Audi</td>\n      <td>RS7</td>\n      <td>2015</td>\n      <td>NaN</td>\n    </tr>\n    <tr>\n      <th>926</th>\n      <td>X007OB190RUS</td>\n      <td>1</td>\n      <td>10964.00</td>\n      <td>Kia</td>\n      <td>Rio</td>\n      <td>2009</td>\n      <td>NaN</td>\n    </tr>\n    <tr>\n      <th>927</th>\n      <td>H729HO170RUS</td>\n      <td>1</td>\n      <td>11336.00</td>\n      <td>BMW</td>\n      <td>Z4</td>\n      <td>2019</td>\n      <td>NaN</td>\n    </tr>\n    <tr>\n      <th>928</th>\n      <td>K961KC12RUS</td>\n      <td>2</td>\n      <td>25228.00</td>\n      <td>BMW</td>\n      <td>M3</td>\n      <td>2021</td>\n      <td>NaN</td>\n    </tr>\n    <tr>\n      <th>929</th>\n      <td>B874EH45RUS</td>\n      <td>1</td>\n      <td>14490.00</td>\n      <td>Audi</td>\n      <td>Q5</td>\n      <td>2008</td>\n      <td>NaN</td>\n    </tr>\n  </tbody>\n</table>\n<p>930 rows × 7 columns</p>\n</div>"
     },
     "execution_count": 61,
     "metadata": {},
     "output_type": "execute_result"
    }
   ],
   "source": [
    "fines.merge(owners, how='left', on='CarNumber')"
   ],
   "metadata": {
    "collapsed": false,
    "pycharm": {
     "name": "#%%\n"
    }
   }
  },
  {
   "cell_type": "code",
   "execution_count": 62,
   "outputs": [
    {
     "data": {
      "text/plain": "        CarNumber  Refund    Fines    Make    Model    Year     SURNAME\n0    Y163O8161RUS    2.00  3200.00    Ford    Focus 1989.00  RICHARDSON\n1    Y163O8161RUS    2.00  1600.00    Ford    Focus 1980.00  RICHARDSON\n2     E432XX77RUS    1.00  6500.00  Toyota    Camry 1995.00        ROSS\n3     E432XX77RUS    2.00 13000.00  Toyota    Camry 2018.00        ROSS\n4     7184TT36RUS    1.00  2100.00    Ford    Focus 1984.00      MORGAN\n..            ...     ...      ...     ...      ...     ...         ...\n897  7608EE777RUS    1.00  4000.00   Skoda  Octavia 2000.00        HILL\n898  7608EE777RUS    1.00  4000.00   Skoda  Octavia 1991.00        HILL\n899   К325НС67RUS     NaN      NaN     NaN      NaN     NaN         LEE\n900   C727YP13RUS     NaN      NaN     NaN      NaN     NaN        REED\n901   У917СО55RUS     NaN      NaN     NaN      NaN     NaN    CASTILLO\n\n[902 rows x 7 columns]",
      "text/html": "<div>\n<style scoped>\n    .dataframe tbody tr th:only-of-type {\n        vertical-align: middle;\n    }\n\n    .dataframe tbody tr th {\n        vertical-align: top;\n    }\n\n    .dataframe thead th {\n        text-align: right;\n    }\n</style>\n<table border=\"1\" class=\"dataframe\">\n  <thead>\n    <tr style=\"text-align: right;\">\n      <th></th>\n      <th>CarNumber</th>\n      <th>Refund</th>\n      <th>Fines</th>\n      <th>Make</th>\n      <th>Model</th>\n      <th>Year</th>\n      <th>SURNAME</th>\n    </tr>\n  </thead>\n  <tbody>\n    <tr>\n      <th>0</th>\n      <td>Y163O8161RUS</td>\n      <td>2.00</td>\n      <td>3200.00</td>\n      <td>Ford</td>\n      <td>Focus</td>\n      <td>1989.00</td>\n      <td>RICHARDSON</td>\n    </tr>\n    <tr>\n      <th>1</th>\n      <td>Y163O8161RUS</td>\n      <td>2.00</td>\n      <td>1600.00</td>\n      <td>Ford</td>\n      <td>Focus</td>\n      <td>1980.00</td>\n      <td>RICHARDSON</td>\n    </tr>\n    <tr>\n      <th>2</th>\n      <td>E432XX77RUS</td>\n      <td>1.00</td>\n      <td>6500.00</td>\n      <td>Toyota</td>\n      <td>Camry</td>\n      <td>1995.00</td>\n      <td>ROSS</td>\n    </tr>\n    <tr>\n      <th>3</th>\n      <td>E432XX77RUS</td>\n      <td>2.00</td>\n      <td>13000.00</td>\n      <td>Toyota</td>\n      <td>Camry</td>\n      <td>2018.00</td>\n      <td>ROSS</td>\n    </tr>\n    <tr>\n      <th>4</th>\n      <td>7184TT36RUS</td>\n      <td>1.00</td>\n      <td>2100.00</td>\n      <td>Ford</td>\n      <td>Focus</td>\n      <td>1984.00</td>\n      <td>MORGAN</td>\n    </tr>\n    <tr>\n      <th>...</th>\n      <td>...</td>\n      <td>...</td>\n      <td>...</td>\n      <td>...</td>\n      <td>...</td>\n      <td>...</td>\n      <td>...</td>\n    </tr>\n    <tr>\n      <th>897</th>\n      <td>7608EE777RUS</td>\n      <td>1.00</td>\n      <td>4000.00</td>\n      <td>Skoda</td>\n      <td>Octavia</td>\n      <td>2000.00</td>\n      <td>HILL</td>\n    </tr>\n    <tr>\n      <th>898</th>\n      <td>7608EE777RUS</td>\n      <td>1.00</td>\n      <td>4000.00</td>\n      <td>Skoda</td>\n      <td>Octavia</td>\n      <td>1991.00</td>\n      <td>HILL</td>\n    </tr>\n    <tr>\n      <th>899</th>\n      <td>К325НС67RUS</td>\n      <td>NaN</td>\n      <td>NaN</td>\n      <td>NaN</td>\n      <td>NaN</td>\n      <td>NaN</td>\n      <td>LEE</td>\n    </tr>\n    <tr>\n      <th>900</th>\n      <td>C727YP13RUS</td>\n      <td>NaN</td>\n      <td>NaN</td>\n      <td>NaN</td>\n      <td>NaN</td>\n      <td>NaN</td>\n      <td>REED</td>\n    </tr>\n    <tr>\n      <th>901</th>\n      <td>У917СО55RUS</td>\n      <td>NaN</td>\n      <td>NaN</td>\n      <td>NaN</td>\n      <td>NaN</td>\n      <td>NaN</td>\n      <td>CASTILLO</td>\n    </tr>\n  </tbody>\n</table>\n<p>902 rows × 7 columns</p>\n</div>"
     },
     "execution_count": 62,
     "metadata": {},
     "output_type": "execute_result"
    }
   ],
   "source": [
    "fines.merge(owners, how='right', on='CarNumber')"
   ],
   "metadata": {
    "collapsed": false,
    "pycharm": {
     "name": "#%%\n"
    }
   }
  },
  {
   "cell_type": "markdown",
   "source": [
    "## create a pivot table from the fines dataframe, it should look like this (the values are the sums of the fines), but with all the years (the values may be different for you):"
   ],
   "metadata": {
    "collapsed": false,
    "pycharm": {
     "name": "#%% md\n"
    }
   }
  },
  {
   "cell_type": "code",
   "execution_count": 63,
   "outputs": [
    {
     "data": {
      "text/plain": "Year                    1980      1981      1982     1983     1984      1985  \\\nMake       Model                                                               \nAudi       Q5            NaN       NaN       NaN      NaN      NaN       NaN   \n           RS7           NaN       NaN       NaN      NaN      NaN       NaN   \nBMW        M3            NaN       NaN       NaN      NaN      NaN       NaN   \n           Z4            NaN       NaN       NaN      NaN      NaN       NaN   \nFord       Focus   110294.59 408983.76 165883.76 64800.00 96989.17 162683.76   \n           Mondeo        NaN       NaN       NaN      NaN      NaN       NaN   \nKia        Rio           NaN       NaN       NaN      NaN      NaN       NaN   \nSkoda      Octavia   2400.00       NaN   7300.00 11594.59      NaN  10294.59   \nToyota     Camry    12000.00   8594.59       NaN  7200.00      NaN       NaN   \n           Corolla       NaN       NaN   2000.00      NaN      NaN       NaN   \nVolkswagen Golf     30900.00       NaN       NaN  8594.59   300.00  24000.00   \n           Jetta         NaN       NaN       NaN      NaN      NaN       NaN   \n           Passat        NaN   1600.00       NaN  3200.00 10000.00   5000.00   \n           Touareg       NaN       NaN       NaN      NaN      NaN   5800.00   \n\nYear                   1986      1987      1988      1989  ...      2011  \\\nMake       Model                                           ...             \nAudi       Q5           NaN       NaN       NaN       NaN  ...       NaN   \n           RS7          NaN       NaN       NaN       NaN  ...       NaN   \nBMW        M3           NaN       NaN       NaN       NaN  ...       NaN   \n           Z4           NaN       NaN       NaN       NaN  ...       NaN   \nFord       Focus   96589.17 125700.00 111789.17 176094.59  ... 103478.35   \n           Mondeo       NaN       NaN       NaN   8600.00  ...       NaN   \nKia        Rio          NaN       NaN       NaN       NaN  ...       NaN   \nSkoda      Octavia   600.00   5200.00   5200.00  91400.00  ...    500.00   \nToyota     Camry        NaN       NaN       NaN  22400.00  ...       NaN   \n           Corolla      NaN  14900.00       NaN   4000.00  ...   8594.59   \nVolkswagen Golf         NaN  44800.00       NaN   5800.00  ...    300.00   \n           Jetta        NaN       NaN       NaN       NaN  ...       NaN   \n           Passat  15000.00  12300.00       NaN       NaN  ...       NaN   \n           Touareg      NaN       NaN       NaN       NaN  ...       NaN   \n\nYear                   2012      2013      2014      2015     2016      2017  \\\nMake       Model                                                               \nAudi       Q5           NaN       NaN       NaN       NaN      NaN       NaN   \n           RS7          NaN       NaN       NaN   7327.00      NaN       NaN   \nBMW        M3           NaN       NaN       NaN       NaN      NaN       NaN   \n           Z4           NaN       NaN       NaN       NaN      NaN       NaN   \nFord       Focus   97100.00 139394.59 122678.35 209100.00 98089.17 263000.00   \n           Mondeo  34400.00       NaN       NaN       NaN 46200.00       NaN   \nKia        Rio          NaN       NaN       NaN       NaN      NaN       NaN   \nSkoda      Octavia   500.00  12594.59    300.00  46394.59   300.00   8594.59   \nToyota     Camry    8594.59       NaN   1000.00       NaN      NaN       NaN   \n           Corolla 30300.00       NaN       NaN       NaN   900.00   9600.00   \nVolkswagen Golf         NaN  20800.00       NaN   2300.00      NaN       NaN   \n           Jetta        NaN       NaN       NaN       NaN      NaN       NaN   \n           Passat       NaN       NaN       NaN    600.00  2100.00       NaN   \n           Touareg      NaN       NaN   1300.00    500.00      NaN       NaN   \n\nYear                    2018     2019     2021  \nMake       Model                                \nAudi       Q5            NaN      NaN      NaN  \n           RS7           NaN      NaN      NaN  \nBMW        M3            NaN      NaN 25228.00  \n           Z4            NaN 11336.00      NaN  \nFord       Focus   274089.17 78889.17      NaN  \n           Mondeo        NaN      NaN      NaN  \nKia        Rio           NaN      NaN      NaN  \nSkoda      Octavia 156200.00  9500.00      NaN  \nToyota     Camry    21594.59 18100.00      NaN  \n           Corolla   7600.00      NaN      NaN  \nVolkswagen Golf      1000.00      NaN      NaN  \n           Jetta         NaN      NaN      NaN  \n           Passat        NaN      NaN      NaN  \n           Touareg       NaN      NaN      NaN  \n\n[14 rows x 41 columns]",
      "text/html": "<div>\n<style scoped>\n    .dataframe tbody tr th:only-of-type {\n        vertical-align: middle;\n    }\n\n    .dataframe tbody tr th {\n        vertical-align: top;\n    }\n\n    .dataframe thead th {\n        text-align: right;\n    }\n</style>\n<table border=\"1\" class=\"dataframe\">\n  <thead>\n    <tr style=\"text-align: right;\">\n      <th></th>\n      <th>Year</th>\n      <th>1980</th>\n      <th>1981</th>\n      <th>1982</th>\n      <th>1983</th>\n      <th>1984</th>\n      <th>1985</th>\n      <th>1986</th>\n      <th>1987</th>\n      <th>1988</th>\n      <th>1989</th>\n      <th>...</th>\n      <th>2011</th>\n      <th>2012</th>\n      <th>2013</th>\n      <th>2014</th>\n      <th>2015</th>\n      <th>2016</th>\n      <th>2017</th>\n      <th>2018</th>\n      <th>2019</th>\n      <th>2021</th>\n    </tr>\n    <tr>\n      <th>Make</th>\n      <th>Model</th>\n      <th></th>\n      <th></th>\n      <th></th>\n      <th></th>\n      <th></th>\n      <th></th>\n      <th></th>\n      <th></th>\n      <th></th>\n      <th></th>\n      <th></th>\n      <th></th>\n      <th></th>\n      <th></th>\n      <th></th>\n      <th></th>\n      <th></th>\n      <th></th>\n      <th></th>\n      <th></th>\n      <th></th>\n    </tr>\n  </thead>\n  <tbody>\n    <tr>\n      <th rowspan=\"2\" valign=\"top\">Audi</th>\n      <th>Q5</th>\n      <td>NaN</td>\n      <td>NaN</td>\n      <td>NaN</td>\n      <td>NaN</td>\n      <td>NaN</td>\n      <td>NaN</td>\n      <td>NaN</td>\n      <td>NaN</td>\n      <td>NaN</td>\n      <td>NaN</td>\n      <td>...</td>\n      <td>NaN</td>\n      <td>NaN</td>\n      <td>NaN</td>\n      <td>NaN</td>\n      <td>NaN</td>\n      <td>NaN</td>\n      <td>NaN</td>\n      <td>NaN</td>\n      <td>NaN</td>\n      <td>NaN</td>\n    </tr>\n    <tr>\n      <th>RS7</th>\n      <td>NaN</td>\n      <td>NaN</td>\n      <td>NaN</td>\n      <td>NaN</td>\n      <td>NaN</td>\n      <td>NaN</td>\n      <td>NaN</td>\n      <td>NaN</td>\n      <td>NaN</td>\n      <td>NaN</td>\n      <td>...</td>\n      <td>NaN</td>\n      <td>NaN</td>\n      <td>NaN</td>\n      <td>NaN</td>\n      <td>7327.00</td>\n      <td>NaN</td>\n      <td>NaN</td>\n      <td>NaN</td>\n      <td>NaN</td>\n      <td>NaN</td>\n    </tr>\n    <tr>\n      <th rowspan=\"2\" valign=\"top\">BMW</th>\n      <th>M3</th>\n      <td>NaN</td>\n      <td>NaN</td>\n      <td>NaN</td>\n      <td>NaN</td>\n      <td>NaN</td>\n      <td>NaN</td>\n      <td>NaN</td>\n      <td>NaN</td>\n      <td>NaN</td>\n      <td>NaN</td>\n      <td>...</td>\n      <td>NaN</td>\n      <td>NaN</td>\n      <td>NaN</td>\n      <td>NaN</td>\n      <td>NaN</td>\n      <td>NaN</td>\n      <td>NaN</td>\n      <td>NaN</td>\n      <td>NaN</td>\n      <td>25228.00</td>\n    </tr>\n    <tr>\n      <th>Z4</th>\n      <td>NaN</td>\n      <td>NaN</td>\n      <td>NaN</td>\n      <td>NaN</td>\n      <td>NaN</td>\n      <td>NaN</td>\n      <td>NaN</td>\n      <td>NaN</td>\n      <td>NaN</td>\n      <td>NaN</td>\n      <td>...</td>\n      <td>NaN</td>\n      <td>NaN</td>\n      <td>NaN</td>\n      <td>NaN</td>\n      <td>NaN</td>\n      <td>NaN</td>\n      <td>NaN</td>\n      <td>NaN</td>\n      <td>11336.00</td>\n      <td>NaN</td>\n    </tr>\n    <tr>\n      <th rowspan=\"2\" valign=\"top\">Ford</th>\n      <th>Focus</th>\n      <td>110294.59</td>\n      <td>408983.76</td>\n      <td>165883.76</td>\n      <td>64800.00</td>\n      <td>96989.17</td>\n      <td>162683.76</td>\n      <td>96589.17</td>\n      <td>125700.00</td>\n      <td>111789.17</td>\n      <td>176094.59</td>\n      <td>...</td>\n      <td>103478.35</td>\n      <td>97100.00</td>\n      <td>139394.59</td>\n      <td>122678.35</td>\n      <td>209100.00</td>\n      <td>98089.17</td>\n      <td>263000.00</td>\n      <td>274089.17</td>\n      <td>78889.17</td>\n      <td>NaN</td>\n    </tr>\n    <tr>\n      <th>Mondeo</th>\n      <td>NaN</td>\n      <td>NaN</td>\n      <td>NaN</td>\n      <td>NaN</td>\n      <td>NaN</td>\n      <td>NaN</td>\n      <td>NaN</td>\n      <td>NaN</td>\n      <td>NaN</td>\n      <td>8600.00</td>\n      <td>...</td>\n      <td>NaN</td>\n      <td>34400.00</td>\n      <td>NaN</td>\n      <td>NaN</td>\n      <td>NaN</td>\n      <td>46200.00</td>\n      <td>NaN</td>\n      <td>NaN</td>\n      <td>NaN</td>\n      <td>NaN</td>\n    </tr>\n    <tr>\n      <th>Kia</th>\n      <th>Rio</th>\n      <td>NaN</td>\n      <td>NaN</td>\n      <td>NaN</td>\n      <td>NaN</td>\n      <td>NaN</td>\n      <td>NaN</td>\n      <td>NaN</td>\n      <td>NaN</td>\n      <td>NaN</td>\n      <td>NaN</td>\n      <td>...</td>\n      <td>NaN</td>\n      <td>NaN</td>\n      <td>NaN</td>\n      <td>NaN</td>\n      <td>NaN</td>\n      <td>NaN</td>\n      <td>NaN</td>\n      <td>NaN</td>\n      <td>NaN</td>\n      <td>NaN</td>\n    </tr>\n    <tr>\n      <th>Skoda</th>\n      <th>Octavia</th>\n      <td>2400.00</td>\n      <td>NaN</td>\n      <td>7300.00</td>\n      <td>11594.59</td>\n      <td>NaN</td>\n      <td>10294.59</td>\n      <td>600.00</td>\n      <td>5200.00</td>\n      <td>5200.00</td>\n      <td>91400.00</td>\n      <td>...</td>\n      <td>500.00</td>\n      <td>500.00</td>\n      <td>12594.59</td>\n      <td>300.00</td>\n      <td>46394.59</td>\n      <td>300.00</td>\n      <td>8594.59</td>\n      <td>156200.00</td>\n      <td>9500.00</td>\n      <td>NaN</td>\n    </tr>\n    <tr>\n      <th rowspan=\"2\" valign=\"top\">Toyota</th>\n      <th>Camry</th>\n      <td>12000.00</td>\n      <td>8594.59</td>\n      <td>NaN</td>\n      <td>7200.00</td>\n      <td>NaN</td>\n      <td>NaN</td>\n      <td>NaN</td>\n      <td>NaN</td>\n      <td>NaN</td>\n      <td>22400.00</td>\n      <td>...</td>\n      <td>NaN</td>\n      <td>8594.59</td>\n      <td>NaN</td>\n      <td>1000.00</td>\n      <td>NaN</td>\n      <td>NaN</td>\n      <td>NaN</td>\n      <td>21594.59</td>\n      <td>18100.00</td>\n      <td>NaN</td>\n    </tr>\n    <tr>\n      <th>Corolla</th>\n      <td>NaN</td>\n      <td>NaN</td>\n      <td>2000.00</td>\n      <td>NaN</td>\n      <td>NaN</td>\n      <td>NaN</td>\n      <td>NaN</td>\n      <td>14900.00</td>\n      <td>NaN</td>\n      <td>4000.00</td>\n      <td>...</td>\n      <td>8594.59</td>\n      <td>30300.00</td>\n      <td>NaN</td>\n      <td>NaN</td>\n      <td>NaN</td>\n      <td>900.00</td>\n      <td>9600.00</td>\n      <td>7600.00</td>\n      <td>NaN</td>\n      <td>NaN</td>\n    </tr>\n    <tr>\n      <th rowspan=\"4\" valign=\"top\">Volkswagen</th>\n      <th>Golf</th>\n      <td>30900.00</td>\n      <td>NaN</td>\n      <td>NaN</td>\n      <td>8594.59</td>\n      <td>300.00</td>\n      <td>24000.00</td>\n      <td>NaN</td>\n      <td>44800.00</td>\n      <td>NaN</td>\n      <td>5800.00</td>\n      <td>...</td>\n      <td>300.00</td>\n      <td>NaN</td>\n      <td>20800.00</td>\n      <td>NaN</td>\n      <td>2300.00</td>\n      <td>NaN</td>\n      <td>NaN</td>\n      <td>1000.00</td>\n      <td>NaN</td>\n      <td>NaN</td>\n    </tr>\n    <tr>\n      <th>Jetta</th>\n      <td>NaN</td>\n      <td>NaN</td>\n      <td>NaN</td>\n      <td>NaN</td>\n      <td>NaN</td>\n      <td>NaN</td>\n      <td>NaN</td>\n      <td>NaN</td>\n      <td>NaN</td>\n      <td>NaN</td>\n      <td>...</td>\n      <td>NaN</td>\n      <td>NaN</td>\n      <td>NaN</td>\n      <td>NaN</td>\n      <td>NaN</td>\n      <td>NaN</td>\n      <td>NaN</td>\n      <td>NaN</td>\n      <td>NaN</td>\n      <td>NaN</td>\n    </tr>\n    <tr>\n      <th>Passat</th>\n      <td>NaN</td>\n      <td>1600.00</td>\n      <td>NaN</td>\n      <td>3200.00</td>\n      <td>10000.00</td>\n      <td>5000.00</td>\n      <td>15000.00</td>\n      <td>12300.00</td>\n      <td>NaN</td>\n      <td>NaN</td>\n      <td>...</td>\n      <td>NaN</td>\n      <td>NaN</td>\n      <td>NaN</td>\n      <td>NaN</td>\n      <td>600.00</td>\n      <td>2100.00</td>\n      <td>NaN</td>\n      <td>NaN</td>\n      <td>NaN</td>\n      <td>NaN</td>\n    </tr>\n    <tr>\n      <th>Touareg</th>\n      <td>NaN</td>\n      <td>NaN</td>\n      <td>NaN</td>\n      <td>NaN</td>\n      <td>NaN</td>\n      <td>5800.00</td>\n      <td>NaN</td>\n      <td>NaN</td>\n      <td>NaN</td>\n      <td>NaN</td>\n      <td>...</td>\n      <td>NaN</td>\n      <td>NaN</td>\n      <td>NaN</td>\n      <td>1300.00</td>\n      <td>500.00</td>\n      <td>NaN</td>\n      <td>NaN</td>\n      <td>NaN</td>\n      <td>NaN</td>\n      <td>NaN</td>\n    </tr>\n  </tbody>\n</table>\n<p>14 rows × 41 columns</p>\n</div>"
     },
     "execution_count": 63,
     "metadata": {},
     "output_type": "execute_result"
    }
   ],
   "source": [
    "fines.pivot_table(index=['Make', 'Model'], columns='Year', values='Fines', aggfunc=np.sum)"
   ],
   "metadata": {
    "collapsed": false,
    "pycharm": {
     "name": "#%%\n"
    }
   }
  },
  {
   "cell_type": "markdown",
   "source": [
    "## save both the fines and owners dataframes to CSV files without an index"
   ],
   "metadata": {
    "collapsed": false,
    "pycharm": {
     "name": "#%% md\n"
    }
   }
  },
  {
   "cell_type": "code",
   "execution_count": 64,
   "outputs": [],
   "source": [
    "fines.to_csv('../data/fines.csv', index=False)"
   ],
   "metadata": {
    "collapsed": false,
    "pycharm": {
     "name": "#%%\n"
    }
   }
  },
  {
   "cell_type": "code",
   "execution_count": 65,
   "outputs": [],
   "source": [
    "owners.to_csv('../data/owners.csv', index=False)"
   ],
   "metadata": {
    "collapsed": false,
    "pycharm": {
     "name": "#%%\n"
    }
   }
  },
  {
   "cell_type": "code",
   "execution_count": 318,
   "outputs": [],
   "source": [],
   "metadata": {
    "collapsed": false,
    "pycharm": {
     "name": "#%%\n"
    }
   }
  }
 ],
 "metadata": {
  "kernelspec": {
   "display_name": "Python 3",
   "language": "python",
   "name": "python3"
  },
  "language_info": {
   "codemirror_mode": {
    "name": "ipython",
    "version": 2
   },
   "file_extension": ".py",
   "mimetype": "text/x-python",
   "name": "python",
   "nbconvert_exporter": "python",
   "pygments_lexer": "ipython2",
   "version": "2.7.6"
  }
 },
 "nbformat": 4,
 "nbformat_minor": 0
}